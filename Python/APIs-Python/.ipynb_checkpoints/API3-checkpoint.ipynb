{
 "cells": [
  {
   "cell_type": "code",
   "execution_count": 17,
   "metadata": {},
   "outputs": [],
   "source": [
    "# Utilizing the Google Maps and Places API to answer questions\n",
    "\n",
    "import requests\n",
    "import json\n",
    "\n",
    "from config import key\n",
    "\n",
    "geo_url = 'https://maps.googleapis.com/maps/api/geocode/json?address='\n",
    "place_url = 'https://maps.googleapis.com/maps/api/place/nearbysearch/json?location='\n"
   ]
  },
  {
   "cell_type": "code",
   "execution_count": 2,
   "metadata": {},
   "outputs": [
    {
     "name": "stdout",
     "output_type": "stream",
     "text": [
      "The GeoCoordinates for Seattle, Washington are 47.6062095,-122.3320708.\n"
     ]
    }
   ],
   "source": [
    "# Geocoordinates (latitude/longitude) of Seattle, Washington\n",
    "\n",
    "url = geo_url + 'Seattle,+Washington&key=%s' % (key)\n",
    "response = requests.get(url).json()\n",
    "latitude = response['results'][0]['geometry']['location']['lat']\n",
    "longitude = response['results'][0]['geometry']['location']['lng']\n",
    "print(f'The GeoCoordinates for Seattle, Washington are {latitude},{longitude}.')"
   ]
  },
  {
   "cell_type": "code",
   "execution_count": 3,
   "metadata": {},
   "outputs": [
    {
     "name": "stdout",
     "output_type": "stream",
     "text": [
      "The GeoCoordinates for The White House are 38.8976763,-77.0365298.\n"
     ]
    }
   ],
   "source": [
    "# What are the geocoordinates (latitude/longitude) of The White House?\n",
    "\n",
    "url = geo_url + 'White,+House&key=%s' % (key)\n",
    "response = requests.get(url).json()\n",
    "\n",
    "lat = response['results'][0]['geometry']['location']['lat']\n",
    "long = response['results'][0]['geometry']['location']['lng']\n",
    "\n",
    "print(f'The GeoCoordinates for The White House are {lat},{long}.')"
   ]
  },
  {
   "cell_type": "code",
   "execution_count": 4,
   "metadata": {},
   "outputs": [
    {
     "name": "stdout",
     "output_type": "stream",
     "text": [
      "The name of the bike store is The Bicycle Repair Shop and their address is 68 Madison Street, Seattle.  They are open now: True.\n"
     ]
    }
   ],
   "source": [
    "# Find the name and address of a bike store in Seattle, Washington.\n",
    "\n",
    "url = place_url + f'{latitude}, {longitude}&radius=1500&type=bicycle_store&key=%s' % (key)\n",
    "response = requests.get(url).json()\n",
    "name = response['results'][0]['name']\n",
    "address = response['results'][0]['vicinity']\n",
    "open_now = response['results'][0]['opening_hours']['open_now']\n",
    "\n",
    "print(f'The name of the bike store is {name} and their address is {address}.  They are open now: {open_now}.')"
   ]
  },
  {
   "cell_type": "code",
   "execution_count": 5,
   "metadata": {},
   "outputs": [
    {
     "name": "stdout",
     "output_type": "stream",
     "text": [
      "The name of the balloon store is GreenWorks Flowers and their address is 1455 Pennsylvania Avenue Northwest, Washington.  They are open now: True.\n"
     ]
    }
   ],
   "source": [
    "# Find a balloon store near the White House.\n",
    "url = place_url + f'{lat}, {long}&radius=1500&type=florist&key=%s' % (key)\n",
    "response = requests.get(url).json()\n",
    "name = response['results'][0]['name']\n",
    "address = response['results'][0]['vicinity']\n",
    "open_now = response['results'][0]['opening_hours']['open_now']\n",
    "print(f'The name of the balloon store is {name} and their address is {address}.  They are open now: {open_now}.')"
   ]
  },
  {
   "cell_type": "code",
   "execution_count": 6,
   "metadata": {},
   "outputs": [
    {
     "name": "stdout",
     "output_type": "stream",
     "text": [
      "The nearest Dentist to my House is Harris Isaiah L DDS.\n"
     ]
    }
   ],
   "source": [
    "# Find the nearest dentist to your house.\n",
    "\n",
    "url = geo_url + '5035+Andrea+st,+Houston,+TX&key=%s' % (key)\n",
    "\n",
    "response = requests.get(url).json()\n",
    "\n",
    "lat = response['results'][0]['geometry']['bounds']['northeast']['lat']\n",
    "long = response['results'][0]['geometry']['bounds']['northeast']['lng']\n",
    "\n",
    "url = place_url +f'{lat}, {long}&rankby=distance&type=dentist&key=%s' % (key)\n",
    "\n",
    "response = requests.get(url).json()\n",
    "name = response['results'][0]['name']\n",
    "\n",
    "print(f'The nearest Dentist to my House is {name}.')"
   ]
  },
  {
   "cell_type": "code",
   "execution_count": 7,
   "metadata": {},
   "outputs": [],
   "source": [
    "# Find the rating of every airport in the top 100 Metropolitan areas\n",
    "\n",
    "import pandas as pd\n",
    "url = 'https://maps.googleapis.com/maps/api/geocode/json'\n",
    "place_url = 'https://maps.googleapis.com/maps/api/place/nearbysearch/json'\n",
    "\n",
    "# Read in a CSV of City and State Data\n",
    "cities = pd.read_csv('Cities.csv')\n",
    "print(cities.head())\n",
    "\n",
    "# Find the Latitude and Longitude for each city using the Google GeoCode API\n",
    "for index, row in cities.iterrows():\n",
    "    city = row['City']\n",
    "    state = row['State']\n",
    "    \n",
    "    params = {\n",
    "        'address':f'{city}, {state}',\n",
    "        'key':key}\n",
    "    \n",
    "    response = requests.get(url,params=params).json()\n",
    "    \n",
    "    lat = response['results'][0]['geometry']['location']\n",
    "    long = response['results'][0]['geometry']['location']\n",
    "    \n",
    "    cities.loc[index, 'Lat'] = lat.get('lat', '')\n",
    "    cities.loc[index,'long'] = long.get('lng','')\n",
    "    \n",
    "    lat = lat.get('lat','')\n",
    "    long = long.get('lng','')\n",
    "    \n",
    "    # Use the Google Places API to find the rating, name, and address of the nearest airport to the Coordinates\n",
    "    params = {\n",
    "        'location': f'{lat},{long}',\n",
    "        'key':key,\n",
    "        'type':'airport',\n",
    "        'radius':50000,\n",
    "        'keyword':'international airport'\n",
    "    }\n",
    "    \n",
    "    response = requests.get(place_url,params=params).json()\n",
    "    result = response.get('results')\n",
    "    \n",
    "    try:\n",
    "        nearest_airport = result[0]\n",
    "        cities.loc[index,'Name'] = response['results'][0]['name']\n",
    "        cities.loc[index,'Address'] = response['results'][0]['vicinity']\n",
    "        cities.loc[index,'rating'] = response['results'][0]['rating']\n",
    "    except:\n",
    "        print(f'No Results for {city}')\n",
    "    "
   ]
  },
  {
   "cell_type": "code",
   "execution_count": 8,
   "metadata": {
    "scrolled": false
   },
   "outputs": [
    {
     "data": {
      "application/vnd.jupyter.widget-view+json": {
       "model_id": "ca67efbc5c6d42068680e0b21f647842",
       "version_major": 2,
       "version_minor": 0
      },
      "text/plain": [
       "Figure(layout=FigureLayout(height='420px'))"
      ]
     },
     "metadata": {},
     "output_type": "display_data"
    }
   ],
   "source": [
    "# Utilize Gmaps to plot geographical data in the form of a heatmap\n",
    "\n",
    "import gmaps\n",
    "\n",
    "locations = cities[['Lat','long']]\n",
    "rating = cities['rating'].astype(float)\n",
    "locations = locations.dropna()\n",
    "rating = rating.dropna()\n",
    "\n",
    "gmaps.configure(api_key=key)\n",
    "fig = gmaps.figure()\n",
    "\n",
    "fig.add_layer(gmaps.heatmap_layer(locations, weights=rating, dissipating=False,max_intensity=10,point_radius=1))\n",
    "\n",
    "fig"
   ]
  },
  {
   "cell_type": "code",
   "execution_count": 9,
   "metadata": {},
   "outputs": [],
   "source": [
    "# Utilize the Census API to gather data for the year 2013\n",
    "\n",
    "from census import Census\n",
    "\n",
    "api_key = \"85ac64b6b5a9c0901b00329d1ef41f0c53ccfc98\"\n",
    "\n",
    "c = Census(api_key,year=2013)\n",
    "\n",
    "# Send a Call for State information regarding Household Income, Population, Median Age, Per Capita Income, and Poverty Count\n",
    "data = c.acs5.get(('NAME','B19013_001E','B01003_001E','B01002_001E','B19301_001E','B17001_002E'), {'for':'state:*'})\n",
    "\n",
    "data_df = pd.DataFrame(data)\n",
    "\n",
    "data_df = data_df.rename(columns={'NAME':'Name','state':'State',\n",
    "                                'B19013_001E':'Household Income',\n",
    "                                 'B01003_001E':'Population',\n",
    "                                 'B01002_001E':'Median Age',\n",
    "                                 'B19301_001E':'Per Capita Income',\n",
    "                                 'B17001_002E':'Poverty Count'})\n",
    "# Create the Column Poverty Rate from the Poverty Count and Population columns\n",
    "data_df['Poverty Rate'] = data_df['Poverty Count'].astype(int)/data_df['Population'].astype(int) * 100\n",
    "\n",
    "data_df.set_index('State')\n",
    "\n",
    "data_df = data_df[[\"Name\",\"Population\",'Median Age','Poverty Count','Per Capita Income','Household Income','Poverty Rate']]"
   ]
  },
  {
   "cell_type": "code",
   "execution_count": 18,
   "metadata": {},
   "outputs": [
    {
     "data": {
      "application/vnd.jupyter.widget-view+json": {
       "model_id": "6217e0672fa94df7b7003e8109543d52",
       "version_major": 2,
       "version_minor": 0
      },
      "text/plain": [
       "Figure(layout=FigureLayout(height='420px'))"
      ]
     },
     "metadata": {},
     "output_type": "display_data"
    }
   ],
   "source": [
    "# Reading in a File that Contains the Lat, Long for each state and merging it with the previous dataframe on the State Name\n",
    "state_locations = pd.read_csv('state_centroids.csv')\n",
    "state_loc = state_locations.rename(columns={'State':'Name'})\n",
    "\n",
    "data_d = data_df.merge(state_loc,on='Name',how='inner')\n",
    "\n",
    "# Plotting the States\n",
    "data_d['Latitude'] = data_d['Latitude'].astype(float)\n",
    "data_d['Longitude'] = data_d['Longitude'].astype(float)\n",
    "\n",
    "p_rate = data_d['Poverty Rate']\n",
    "\n",
    "location = data_d[['Latitude','Longitude']]\n",
    "\n",
    "fig = gmaps.figure()\n",
    "\n",
    "# Plotting the Lat and Long for each state and using the Poverty Rate as the weight for the Heatmap\n",
    "fig.add_layer(gmaps.heatmap_layer(location, weights=data_d['Poverty Rate'],dissipating=False,max_intensity=25,point_radius=3))\n",
    "\n",
    "fig"
   ]
  },
  {
   "cell_type": "code",
   "execution_count": 19,
   "metadata": {},
   "outputs": [
    {
     "data": {
      "text/html": [
       "<div>\n",
       "<style scoped>\n",
       "    .dataframe tbody tr th:only-of-type {\n",
       "        vertical-align: middle;\n",
       "    }\n",
       "\n",
       "    .dataframe tbody tr th {\n",
       "        vertical-align: top;\n",
       "    }\n",
       "\n",
       "    .dataframe thead th {\n",
       "        text-align: right;\n",
       "    }\n",
       "</style>\n",
       "<table border=\"1\" class=\"dataframe\">\n",
       "  <thead>\n",
       "    <tr style=\"text-align: right;\">\n",
       "      <th></th>\n",
       "      <th>Unemployment</th>\n",
       "      <th>Zipcode</th>\n",
       "    </tr>\n",
       "  </thead>\n",
       "  <tbody>\n",
       "    <tr>\n",
       "      <th>0</th>\n",
       "      <td>1464.0</td>\n",
       "      <td>00601</td>\n",
       "    </tr>\n",
       "    <tr>\n",
       "      <th>1</th>\n",
       "      <td>4767.0</td>\n",
       "      <td>00602</td>\n",
       "    </tr>\n",
       "    <tr>\n",
       "      <th>2</th>\n",
       "      <td>4341.0</td>\n",
       "      <td>00603</td>\n",
       "    </tr>\n",
       "    <tr>\n",
       "      <th>3</th>\n",
       "      <td>134.0</td>\n",
       "      <td>00606</td>\n",
       "    </tr>\n",
       "    <tr>\n",
       "      <th>4</th>\n",
       "      <td>1134.0</td>\n",
       "      <td>00610</td>\n",
       "    </tr>\n",
       "  </tbody>\n",
       "</table>\n",
       "</div>"
      ],
      "text/plain": [
       "   Unemployment Zipcode\n",
       "0        1464.0   00601\n",
       "1        4767.0   00602\n",
       "2        4341.0   00603\n",
       "3         134.0   00606\n",
       "4        1134.0   00610"
      ]
     },
     "execution_count": 19,
     "metadata": {},
     "output_type": "execute_result"
    }
   ],
   "source": [
    "# Using all the above technologies to showcase the correlation between low-income areas and the absence of banking services\n",
    "\n",
    "import pandas as pd\n",
    "import requests \n",
    "import json\n",
    "from config import key\n",
    "import gmaps\n",
    "from census import Census\n",
    "\n",
    "census_key = \"85ac64b6b5a9c0901b00329d1ef41f0c53ccfc98\"\n",
    "c = Census(census_key,year=2013)\n",
    "\n",
    "# Read in Data that contains the number of banking services by zipcode\n",
    "data = pd.read_csv('zip_bank_data.csv')\n",
    "\n",
    "# Use the Census API to obtain Unemployment numbers by zipcode\n",
    "census_pd = c.acs5.get(('B23025_005E'),\n",
    "                       {'for':'zip code tabulation area'})\n",
    "census_pd = pd.DataFrame(census_pd)\n",
    "census_pd = census_pd.rename(columns={'B23025_005E':'Unemployment',\n",
    "                                     'zip code tabulation area':'Zipcode'})\n",
    "census_pd.head()"
   ]
  },
  {
   "cell_type": "code",
   "execution_count": 20,
   "metadata": {},
   "outputs": [
    {
     "data": {
      "text/html": [
       "<div>\n",
       "<style scoped>\n",
       "    .dataframe tbody tr th:only-of-type {\n",
       "        vertical-align: middle;\n",
       "    }\n",
       "\n",
       "    .dataframe tbody tr th {\n",
       "        vertical-align: top;\n",
       "    }\n",
       "\n",
       "    .dataframe thead th {\n",
       "        text-align: right;\n",
       "    }\n",
       "</style>\n",
       "<table border=\"1\" class=\"dataframe\">\n",
       "  <thead>\n",
       "    <tr style=\"text-align: right;\">\n",
       "      <th></th>\n",
       "      <th>Zipcode</th>\n",
       "      <th>Address</th>\n",
       "      <th>Population</th>\n",
       "      <th>Median Age</th>\n",
       "      <th>Household Income</th>\n",
       "      <th>Per Capita Income</th>\n",
       "      <th>Poverty Rate</th>\n",
       "      <th>Lat</th>\n",
       "      <th>Lng</th>\n",
       "      <th>Bank Count</th>\n",
       "      <th>Unemployment</th>\n",
       "      <th>Unemployment Rate</th>\n",
       "    </tr>\n",
       "  </thead>\n",
       "  <tbody>\n",
       "    <tr>\n",
       "      <th>0</th>\n",
       "      <td>49058</td>\n",
       "      <td>Hastings, MI 49058, USA</td>\n",
       "      <td>19031</td>\n",
       "      <td>40.8</td>\n",
       "      <td>46777.0</td>\n",
       "      <td>22137</td>\n",
       "      <td>13.183753</td>\n",
       "      <td>42.630692</td>\n",
       "      <td>-85.292938</td>\n",
       "      <td>9</td>\n",
       "      <td>1011.0</td>\n",
       "      <td>5.312385</td>\n",
       "    </tr>\n",
       "    <tr>\n",
       "      <th>1</th>\n",
       "      <td>71405</td>\n",
       "      <td>Ball, LA 71405, USA</td>\n",
       "      <td>5687</td>\n",
       "      <td>35.8</td>\n",
       "      <td>55242.0</td>\n",
       "      <td>23941</td>\n",
       "      <td>15.737647</td>\n",
       "      <td>31.406180</td>\n",
       "      <td>-92.396174</td>\n",
       "      <td>12</td>\n",
       "      <td>260.0</td>\n",
       "      <td>4.571830</td>\n",
       "    </tr>\n",
       "    <tr>\n",
       "      <th>2</th>\n",
       "      <td>20634</td>\n",
       "      <td>Great Mills, MD 20634, USA</td>\n",
       "      <td>6562</td>\n",
       "      <td>31.9</td>\n",
       "      <td>79944.0</td>\n",
       "      <td>35961</td>\n",
       "      <td>9.295946</td>\n",
       "      <td>38.220161</td>\n",
       "      <td>-76.496792</td>\n",
       "      <td>9</td>\n",
       "      <td>266.0</td>\n",
       "      <td>4.053642</td>\n",
       "    </tr>\n",
       "    <tr>\n",
       "      <th>3</th>\n",
       "      <td>38487</td>\n",
       "      <td>Williamsport, TN 38487, USA</td>\n",
       "      <td>762</td>\n",
       "      <td>41.6</td>\n",
       "      <td>38125.0</td>\n",
       "      <td>18884</td>\n",
       "      <td>24.409449</td>\n",
       "      <td>35.731037</td>\n",
       "      <td>-87.241930</td>\n",
       "      <td>0</td>\n",
       "      <td>78.0</td>\n",
       "      <td>10.236220</td>\n",
       "    </tr>\n",
       "    <tr>\n",
       "      <th>4</th>\n",
       "      <td>58466</td>\n",
       "      <td>Marion, ND 58466, USA</td>\n",
       "      <td>509</td>\n",
       "      <td>44.5</td>\n",
       "      <td>69844.0</td>\n",
       "      <td>36981</td>\n",
       "      <td>9.430255</td>\n",
       "      <td>46.559422</td>\n",
       "      <td>-98.348154</td>\n",
       "      <td>1</td>\n",
       "      <td>6.0</td>\n",
       "      <td>1.178782</td>\n",
       "    </tr>\n",
       "  </tbody>\n",
       "</table>\n",
       "</div>"
      ],
      "text/plain": [
       "   Zipcode                      Address  Population  Median Age  \\\n",
       "0    49058      Hastings, MI 49058, USA       19031        40.8   \n",
       "1    71405          Ball, LA 71405, USA        5687        35.8   \n",
       "2    20634   Great Mills, MD 20634, USA        6562        31.9   \n",
       "3    38487  Williamsport, TN 38487, USA         762        41.6   \n",
       "4    58466        Marion, ND 58466, USA         509        44.5   \n",
       "\n",
       "   Household Income  Per Capita Income  Poverty Rate        Lat        Lng  \\\n",
       "0           46777.0              22137     13.183753  42.630692 -85.292938   \n",
       "1           55242.0              23941     15.737647  31.406180 -92.396174   \n",
       "2           79944.0              35961      9.295946  38.220161 -76.496792   \n",
       "3           38125.0              18884     24.409449  35.731037 -87.241930   \n",
       "4           69844.0              36981      9.430255  46.559422 -98.348154   \n",
       "\n",
       "   Bank Count  Unemployment  Unemployment Rate  \n",
       "0           9        1011.0           5.312385  \n",
       "1          12         260.0           4.571830  \n",
       "2           9         266.0           4.053642  \n",
       "3           0          78.0          10.236220  \n",
       "4           1           6.0           1.178782  "
      ]
     },
     "execution_count": 20,
     "metadata": {},
     "output_type": "execute_result"
    }
   ],
   "source": [
    "# Merge the two datasets on the zipcode \n",
    "data['Zipcode'] = pd.to_numeric(data['Zipcode'])\n",
    "census_pd['Zipcode'] = pd.to_numeric(census_pd['Zipcode'])\n",
    "\n",
    "data_full = data.merge(census_pd,on='Zipcode',how='inner')\n",
    "\n",
    "# Create the Unemployment Rate by using both the Unemployment and Population column \n",
    "data_full['Unemployment Rate'] = 100 * data_full['Unemployment']/data_full['Population']\n",
    "data_full.head()"
   ]
  },
  {
   "cell_type": "code",
   "execution_count": 23,
   "metadata": {},
   "outputs": [
    {
     "data": {
      "application/vnd.jupyter.widget-view+json": {
       "model_id": "aa4e77a8b29a4eb88eaa38a65c9e2939",
       "version_major": 2,
       "version_minor": 0
      },
      "text/plain": [
       "Figure(layout=FigureLayout(height='420px'))"
      ]
     },
     "metadata": {},
     "output_type": "display_data"
    }
   ],
   "source": [
    "# Plot using a heatmap the Unemployment rate for each zipcode\n",
    "fig = gmaps.figure()\n",
    "location = data_full[['Lat','Lng']]\n",
    "markers = gmaps.marker_layer(location)\n",
    "fig.add_layer(gmaps.heatmap_layer(location, weights=data_full['Unemployment Rate'],\n",
    "                                 max_intensity = 50,\n",
    "                                  dissipating=False,point_radius=1))\n",
    "\n",
    "fig"
   ]
  },
  {
   "cell_type": "code",
   "execution_count": 24,
   "metadata": {},
   "outputs": [
    {
     "data": {
      "application/vnd.jupyter.widget-view+json": {
       "model_id": "83e0d8793eda4ac9ba76fad26ec6826e",
       "version_major": 2,
       "version_minor": 0
      },
      "text/plain": [
       "Figure(layout=FigureLayout(height='420px'))"
      ]
     },
     "metadata": {},
     "output_type": "display_data"
    }
   ],
   "source": [
    "# Use a Symbol Layer to showcase the amount of banks are in a specific zipcode\n",
    "bank_rate = data_full['Bank Count'].tolist()\n",
    "\n",
    "fig = gmaps.figure()\n",
    "layer = gmaps.symbol_layer(location,\n",
    "                           fill_color='rgba(0,150,0,0.4)',\n",
    "                           stroke_color='rgba(0,0,150,0.4)',scale=2,\n",
    "                          info_box_content=[f'# of Banks In Area: {bank}'for bank in bank_rate])\n",
    "\n",
    "fig.add_layer(layer)\n",
    "fig"
   ]
  },
  {
   "cell_type": "code",
   "execution_count": 25,
   "metadata": {},
   "outputs": [
    {
     "data": {
      "application/vnd.jupyter.widget-view+json": {
       "model_id": "cce75fe1a523405ba2812f2a9746c807",
       "version_major": 2,
       "version_minor": 0
      },
      "text/plain": [
       "Figure(layout=FigureLayout(height='420px'))"
      ]
     },
     "metadata": {},
     "output_type": "display_data"
    }
   ],
   "source": [
    "# Combine Both Maps from Above into One\n",
    "fig = gmaps.figure()\n",
    "\n",
    "fig.add_layer(gmaps.heatmap_layer(location, weights=data_full['Unemployment Rate'],\n",
    "                                 max_intensity = 50,\n",
    "                                  dissipating=False,point_radius=1))\n",
    "fig.add_layer(layer)\n",
    "\n",
    "fig"
   ]
  }
 ],
 "metadata": {
  "kernelspec": {
   "display_name": "Python 3",
   "language": "python",
   "name": "python3"
  },
  "language_info": {
   "codemirror_mode": {
    "name": "ipython",
    "version": 3
   },
   "file_extension": ".py",
   "mimetype": "text/x-python",
   "name": "python",
   "nbconvert_exporter": "python",
   "pygments_lexer": "ipython3",
   "version": "3.7.0"
  }
 },
 "nbformat": 4,
 "nbformat_minor": 2
}
