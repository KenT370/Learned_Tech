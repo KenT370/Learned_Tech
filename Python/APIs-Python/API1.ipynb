{
 "cells": [
  {
   "cell_type": "code",
   "execution_count": 2,
   "metadata": {},
   "outputs": [],
   "source": [
    "import requests\n",
    "import json"
   ]
  },
  {
   "cell_type": "code",
   "execution_count": 16,
   "metadata": {},
   "outputs": [
    {
     "name": "stdout",
     "output_type": "stream",
     "text": [
      "{\n",
      "    \"birth_year\": \"41.9BBY\",\n",
      "    \"created\": \"2014-12-10T15:18:20.704000Z\",\n",
      "    \"edited\": \"2014-12-20T21:17:50.313000Z\",\n",
      "    \"eye_color\": \"yellow\",\n",
      "    \"films\": [\n",
      "        \"https://swapi.co/api/films/2/\",\n",
      "        \"https://swapi.co/api/films/6/\",\n",
      "        \"https://swapi.co/api/films/3/\",\n",
      "        \"https://swapi.co/api/films/1/\"\n",
      "    ],\n",
      "    \"gender\": \"male\",\n",
      "    \"hair_color\": \"none\",\n",
      "    \"height\": \"202\",\n",
      "    \"homeworld\": \"https://swapi.co/api/planets/1/\",\n",
      "    \"mass\": \"136\",\n",
      "    \"name\": \"Darth Vader\",\n",
      "    \"skin_color\": \"white\",\n",
      "    \"species\": [\n",
      "        \"https://swapi.co/api/species/1/\"\n",
      "    ],\n",
      "    \"starships\": [\n",
      "        \"https://swapi.co/api/starships/13/\"\n",
      "    ],\n",
      "    \"url\": \"https://swapi.co/api/people/4/\",\n",
      "    \"vehicles\": []\n",
      "}\n"
     ]
    }
   ],
   "source": [
    "# Basic API Call\n",
    "\n",
    "base_url = 'https://swapi.co/api/people/'\n",
    "character_id = '4'\n",
    "url = base_url + character_id\n",
    "\n",
    "response = requests.get(url).json()\n",
    "print(json.dumps(response,indent=4,sort_keys=True))"
   ]
  },
  {
   "cell_type": "code",
   "execution_count": 29,
   "metadata": {},
   "outputs": [
    {
     "name": "stdout",
     "output_type": "stream",
     "text": [
      "Darth Vader has been in 4 Movies\n"
     ]
    }
   ],
   "source": [
    "# Pulling out the number of movies the character has been in\n",
    "print(str(response['name']) + ' has been in ' + str(len(response['films']))+' Movies')"
   ]
  },
  {
   "cell_type": "code",
   "execution_count": 28,
   "metadata": {},
   "outputs": [
    {
     "name": "stdout",
     "output_type": "stream",
     "text": [
      "Their First Ship was named: TIE Advanced x1\n"
     ]
    }
   ],
   "source": [
    "#Using another API to find the name of the character's first ship\n",
    "url = response['starships'][0]\n",
    "ship = requests.get(url).json()\n",
    "print('Their First Ship was named: '  + str(ship['name']))"
   ]
  },
  {
   "cell_type": "code",
   "execution_count": 3,
   "metadata": {},
   "outputs": [
    {
     "name": "stdout",
     "output_type": "stream",
     "text": [
      "What type of data would you like to search for? [Trivia, Math, Date, or Year]Trivia\n",
      "What number would you like to search for? 10\n",
      "10 is the highest score possible in Olympics gymnastics competitions.\n"
     ]
    }
   ],
   "source": [
    "selection = input('What type of data would you like to search for? [Trivia, Math, Date, or Year]')\n",
    "number = input('What number would you like to search for? ')\n",
    "\n",
    "url_base = 'http://numbersapi.com/'\n",
    "\n",
    "url = url_base + str(number)+'/'+str(selection.lower())+'?json'\n",
    "\n",
    "response = requests.get(url).json()\n",
    "\n",
    "fact = response['text']\n",
    "print(fact)"
   ]
  },
  {
   "cell_type": "code",
   "execution_count": 28,
   "metadata": {},
   "outputs": [
    {
     "name": "stdout",
     "output_type": "stream",
     "text": [
      "The Director of Aliens was James Cameron.\n",
      "The movie Gladiator was rated R.\n",
      "The movie 50 First Dates was released 13 Feb 2004.\n",
      "The movie Moana was written by Jared Bush (screenplay by), Ron Clements (story by), John Musker (story by), Chris Williams (story by), Don Hall (story by), Pamela Ribon (story by), Aaron Kandell (story by), Jordan Kandell (story by).\n",
      "The plot for the movie Sing was In a city of humanoid animals, a hustling theater impresario's attempt to save his theater with a singing competition becomes grander than he anticipates even as its finalists' find that their lives will never be the same..\n"
     ]
    }
   ],
   "source": [
    "# Answering Movie Questions with the OMDB API\n",
    "\n",
    "url = 'http://www.omdbapi.com/?apikey=trilogy&t='\n",
    "\n",
    "\n",
    "# Who was the directory of the movie Aliens\"\n",
    "response = requests.get(url+'Aliens').json()\n",
    "print(f'The Director of Aliens was {response[\"Director\"]}.')\n",
    "\n",
    "# What was the movie Gladiator rated?\n",
    "response = requests.get(url+'Gladiator').json()\n",
    "print(f'The movie Gladiator was rated {response[\"Rated\"]}.')\n",
    "\n",
    "# What year was 50 First Dates released?\n",
    "response = requests.get(url+'50 First Dates').json()\n",
    "print(f'The movie 50 First Dates was released {response[\"Released\"]}.')\n",
    "\n",
    "# Who Wrote Moana?\n",
    "response = requests.get(url+'Moana').json()\n",
    "print(f'The movie Moana was written by {response[\"Writer\"]}.')\n",
    "\n",
    "# What was the plot of the movie Sing?\n",
    "response = requests.get(url+'Sing').json()\n",
    "print(f'The plot for the movie Sing is {response[\"Plot\"]}.')"
   ]
  },
  {
   "cell_type": "code",
   "execution_count": 30,
   "metadata": {},
   "outputs": [
    {
     "name": "stdout",
     "output_type": "stream",
     "text": [
      "The director of Godfather is Lal, Siddique.\n",
      "The director of The Green Mile is Frank Darabont.\n",
      "The director of Constantine is Francis Lawrence.\n"
     ]
    }
   ],
   "source": [
    "# Iterating over a list to get multiple API Requests\n",
    "\n",
    "movies = [\"Godfather\",\"The Green Mile\",\"Constantine\"]\n",
    "responses = []\n",
    "for movie in movies:\n",
    "    response = requests.get(url+str(movie)).json()\n",
    "    responses.append(response)\n",
    "    print(f'The director of {movie} is {response[\"Director\"]}.')\n",
    "    "
   ]
  },
  {
   "cell_type": "code",
   "execution_count": 71,
   "metadata": {},
   "outputs": [
    {
     "name": "stdout",
     "output_type": "stream",
     "text": [
      "A snippet from the article: ‘‘Within the last 18 months, someone said R. Kelly had a good song for me. I said no.’’\n",
      "A snippet from the article: The singer accused West and Kid Cudi of copying her stage set. Their designer said Lorde “wasn’t the first person to use a floating glass box, she won’t be the last.”\n",
      "A snippet from the article: Adidas expects supply chain issues to curb sales growth in the first half of the year, particularly in North America, where it has doubled its business in the last three years to take market share from bigger rival Nike.\n",
      "A snippet from the article: Heron Preston showed his collection Tuesday in Paris. He, Virgil Abloh and Matthew Williams now find themselves at fashion’s center.\n",
      "A snippet from the article: What you need to know from this week’s TV, music and movie news.\n",
      "A snippet from the article: Did you stay up to date this week?\n",
      "A snippet from the article: The 22-year-old rapper’s second album, which arrives the same week he pleaded not guilty to federal charges, captures a bizarre time in hip-hop.\n",
      "A snippet from the article: But the reaction was obscene.\n",
      "A snippet from the article: The iPhone app Notes has become the medium of choice for celebrity mea culpas.\n",
      "A snippet from the article: We dare you to live through 2018 — again.\n"
     ]
    }
   ],
   "source": [
    "# Using the New York Times API to grab ten articles\n",
    "# that match a query and output a snippet\n",
    "\n",
    "key = 'uMMStMoIAmoLwhLmie6oIF8tmXVFeHGX'\n",
    "url = 'https://api.nytimes.com/svc/search/v2/articlesearch.json?q='\n",
    "query = 'Kanye'\n",
    "\n",
    "total = url + query + '&api-key=' + key + '&fq=pub_year(\"2019\")'\n",
    "\n",
    "res = requests.get(total).json()\n",
    "\n",
    "articles = [article for article in res['response']['docs']]\n",
    "\n",
    "for article in articles:\n",
    "    print(f'A snippet from the article: {article[\"snippet\"]}')\n",
    "    "
   ]
  }
 ],
 "metadata": {
  "kernelspec": {
   "display_name": "Python 3",
   "language": "python",
   "name": "python3"
  },
  "language_info": {
   "codemirror_mode": {
    "name": "ipython",
    "version": 3
   },
   "file_extension": ".py",
   "mimetype": "text/x-python",
   "name": "python",
   "nbconvert_exporter": "python",
   "pygments_lexer": "ipython3",
   "version": "3.6.5"
  }
 },
 "nbformat": 4,
 "nbformat_minor": 2
}
