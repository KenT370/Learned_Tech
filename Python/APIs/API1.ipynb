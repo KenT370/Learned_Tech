{
 "cells": [
  {
   "cell_type": "code",
   "execution_count": 1,
   "metadata": {},
   "outputs": [],
   "source": [
    "import requests\n",
    "import json"
   ]
  },
  {
   "cell_type": "code",
   "execution_count": 16,
   "metadata": {},
   "outputs": [
    {
     "name": "stdout",
     "output_type": "stream",
     "text": [
      "{\n",
      "    \"birth_year\": \"41.9BBY\",\n",
      "    \"created\": \"2014-12-10T15:18:20.704000Z\",\n",
      "    \"edited\": \"2014-12-20T21:17:50.313000Z\",\n",
      "    \"eye_color\": \"yellow\",\n",
      "    \"films\": [\n",
      "        \"https://swapi.co/api/films/2/\",\n",
      "        \"https://swapi.co/api/films/6/\",\n",
      "        \"https://swapi.co/api/films/3/\",\n",
      "        \"https://swapi.co/api/films/1/\"\n",
      "    ],\n",
      "    \"gender\": \"male\",\n",
      "    \"hair_color\": \"none\",\n",
      "    \"height\": \"202\",\n",
      "    \"homeworld\": \"https://swapi.co/api/planets/1/\",\n",
      "    \"mass\": \"136\",\n",
      "    \"name\": \"Darth Vader\",\n",
      "    \"skin_color\": \"white\",\n",
      "    \"species\": [\n",
      "        \"https://swapi.co/api/species/1/\"\n",
      "    ],\n",
      "    \"starships\": [\n",
      "        \"https://swapi.co/api/starships/13/\"\n",
      "    ],\n",
      "    \"url\": \"https://swapi.co/api/people/4/\",\n",
      "    \"vehicles\": []\n",
      "}\n"
     ]
    }
   ],
   "source": [
    "base_url = 'https://swapi.co/api/people/'\n",
    "character_id = '4'\n",
    "url = base_url + character_id\n",
    "\n",
    "response = requests.get(url).json()\n",
    "print(json.dumps(response,indent=4,sort_keys=True))"
   ]
  },
  {
   "cell_type": "code",
   "execution_count": 29,
   "metadata": {},
   "outputs": [
    {
     "name": "stdout",
     "output_type": "stream",
     "text": [
      "Darth Vader has been in 4 Movies\n"
     ]
    }
   ],
   "source": [
    "# Pulling out the number of movies the character has been in\n",
    "print(str(response['name']) + ' has been in ' + str(len(response['films']))+' Movies')"
   ]
  },
  {
   "cell_type": "code",
   "execution_count": 28,
   "metadata": {},
   "outputs": [
    {
     "name": "stdout",
     "output_type": "stream",
     "text": [
      "Their First Ship was named: TIE Advanced x1\n"
     ]
    }
   ],
   "source": [
    "#Using another API to find the name of the character's first ship\n",
    "url = response['starships'][0]\n",
    "ship = requests.get(url).json()\n",
    "print('Their First Ship was named: '  + str(ship['name']))"
   ]
  },
  {
   "cell_type": "code",
   "execution_count": 58,
   "metadata": {},
   "outputs": [
    {
     "name": "stdout",
     "output_type": "stream",
     "text": [
      "What type of data would you like to search for? [Trivia, Math, Date, or Year]Date\n",
      "What number would you like to search for? 12/09\n",
      "December 9th is the day in 2003 that a blast in the center of Moscow kills six people and wounds several more.\n"
     ]
    }
   ],
   "source": [
    "selection = input('What type of data would you like to search for? [Trivia, Math, Date, or Year]')\n",
    "number = input('What number would you like to search for? ')\n",
    "selection = selection.lower()\n",
    "\n",
    "url_base = 'http://numbersapi.com/'\n",
    "\n",
    "url = url_base + str(number)+'/'+str(selection)+'?json'\n",
    "\n",
    "response = requests.get(url).json()\n",
    "\n",
    "fact = response['text']\n",
    "print(fact)"
   ]
  },
  {
   "cell_type": "code",
   "execution_count": 57,
   "metadata": {},
   "outputs": [
    {
     "data": {
      "text/plain": [
       "'dkdld'"
      ]
     },
     "execution_count": 57,
     "metadata": {},
     "output_type": "execute_result"
    }
   ],
   "source": []
  },
  {
   "cell_type": "code",
   "execution_count": null,
   "metadata": {},
   "outputs": [],
   "source": []
  }
 ],
 "metadata": {
  "kernelspec": {
   "display_name": "Python 3",
   "language": "python",
   "name": "python3"
  },
  "language_info": {
   "codemirror_mode": {
    "name": "ipython",
    "version": 3
   },
   "file_extension": ".py",
   "mimetype": "text/x-python",
   "name": "python",
   "nbconvert_exporter": "python",
   "pygments_lexer": "ipython3",
   "version": "3.6.5"
  }
 },
 "nbformat": 4,
 "nbformat_minor": 2
}
