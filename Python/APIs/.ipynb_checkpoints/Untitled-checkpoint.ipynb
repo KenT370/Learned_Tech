{
 "cells": [
  {
   "cell_type": "code",
   "execution_count": 13,
   "metadata": {},
   "outputs": [
    {
     "data": {
      "text/html": [
       "<div>\n",
       "<style scoped>\n",
       "    .dataframe tbody tr th:only-of-type {\n",
       "        vertical-align: middle;\n",
       "    }\n",
       "\n",
       "    .dataframe tbody tr th {\n",
       "        vertical-align: top;\n",
       "    }\n",
       "\n",
       "    .dataframe thead th {\n",
       "        text-align: right;\n",
       "    }\n",
       "</style>\n",
       "<table border=\"1\" class=\"dataframe\">\n",
       "  <thead>\n",
       "    <tr style=\"text-align: right;\">\n",
       "      <th></th>\n",
       "      <th>Unemployment</th>\n",
       "      <th>Zipcode</th>\n",
       "    </tr>\n",
       "  </thead>\n",
       "  <tbody>\n",
       "    <tr>\n",
       "      <th>0</th>\n",
       "      <td>1464.0</td>\n",
       "      <td>00601</td>\n",
       "    </tr>\n",
       "    <tr>\n",
       "      <th>1</th>\n",
       "      <td>4767.0</td>\n",
       "      <td>00602</td>\n",
       "    </tr>\n",
       "    <tr>\n",
       "      <th>2</th>\n",
       "      <td>4341.0</td>\n",
       "      <td>00603</td>\n",
       "    </tr>\n",
       "    <tr>\n",
       "      <th>3</th>\n",
       "      <td>134.0</td>\n",
       "      <td>00606</td>\n",
       "    </tr>\n",
       "    <tr>\n",
       "      <th>4</th>\n",
       "      <td>1134.0</td>\n",
       "      <td>00610</td>\n",
       "    </tr>\n",
       "  </tbody>\n",
       "</table>\n",
       "</div>"
      ],
      "text/plain": [
       "   Unemployment Zipcode\n",
       "0        1464.0   00601\n",
       "1        4767.0   00602\n",
       "2        4341.0   00603\n",
       "3         134.0   00606\n",
       "4        1134.0   00610"
      ]
     },
     "execution_count": 13,
     "metadata": {},
     "output_type": "execute_result"
    }
   ],
   "source": [
    "import pandas as pd\n",
    "import requests \n",
    "import json\n",
    "from config import key\n",
    "import gmaps\n",
    "from census import Census\n",
    "\n",
    "census_key = \"85ac64b6b5a9c0901b00329d1ef41f0c53ccfc98\"\n",
    "c = Census(census_key,year=2013)\n",
    "\n",
    "data = pd.read_csv('zip_bank_data.csv')\n",
    "\n",
    "census_pd = c.acs5.get(('B23025_005E'),\n",
    "                       {'for':'zip code tabulation area'})\n",
    "census_pd = pd.DataFrame(census_pd)\n",
    "census_pd = census_pd.rename(columns={'B23025_005E':'Unemployment',\n",
    "                                     'zip code tabulation area':'Zipcode'})\n",
    "census_pd.head()\n"
   ]
  },
  {
   "cell_type": "code",
   "execution_count": 18,
   "metadata": {},
   "outputs": [
    {
     "data": {
      "text/html": [
       "<div>\n",
       "<style scoped>\n",
       "    .dataframe tbody tr th:only-of-type {\n",
       "        vertical-align: middle;\n",
       "    }\n",
       "\n",
       "    .dataframe tbody tr th {\n",
       "        vertical-align: top;\n",
       "    }\n",
       "\n",
       "    .dataframe thead th {\n",
       "        text-align: right;\n",
       "    }\n",
       "</style>\n",
       "<table border=\"1\" class=\"dataframe\">\n",
       "  <thead>\n",
       "    <tr style=\"text-align: right;\">\n",
       "      <th></th>\n",
       "      <th>Zipcode</th>\n",
       "      <th>Address</th>\n",
       "      <th>Population</th>\n",
       "      <th>Median Age</th>\n",
       "      <th>Household Income</th>\n",
       "      <th>Per Capita Income</th>\n",
       "      <th>Poverty Rate</th>\n",
       "      <th>Lat</th>\n",
       "      <th>Lng</th>\n",
       "      <th>Bank Count</th>\n",
       "      <th>Unemployment</th>\n",
       "      <th>Unemployment Rate</th>\n",
       "    </tr>\n",
       "  </thead>\n",
       "  <tbody>\n",
       "    <tr>\n",
       "      <th>0</th>\n",
       "      <td>49058</td>\n",
       "      <td>Hastings, MI 49058, USA</td>\n",
       "      <td>19031</td>\n",
       "      <td>40.8</td>\n",
       "      <td>46777.0</td>\n",
       "      <td>22137</td>\n",
       "      <td>13.183753</td>\n",
       "      <td>42.630692</td>\n",
       "      <td>-85.292938</td>\n",
       "      <td>9</td>\n",
       "      <td>1011.0</td>\n",
       "      <td>5.312385</td>\n",
       "    </tr>\n",
       "    <tr>\n",
       "      <th>1</th>\n",
       "      <td>71405</td>\n",
       "      <td>Ball, LA 71405, USA</td>\n",
       "      <td>5687</td>\n",
       "      <td>35.8</td>\n",
       "      <td>55242.0</td>\n",
       "      <td>23941</td>\n",
       "      <td>15.737647</td>\n",
       "      <td>31.406180</td>\n",
       "      <td>-92.396174</td>\n",
       "      <td>12</td>\n",
       "      <td>260.0</td>\n",
       "      <td>4.571830</td>\n",
       "    </tr>\n",
       "    <tr>\n",
       "      <th>2</th>\n",
       "      <td>20634</td>\n",
       "      <td>Great Mills, MD 20634, USA</td>\n",
       "      <td>6562</td>\n",
       "      <td>31.9</td>\n",
       "      <td>79944.0</td>\n",
       "      <td>35961</td>\n",
       "      <td>9.295946</td>\n",
       "      <td>38.220161</td>\n",
       "      <td>-76.496792</td>\n",
       "      <td>9</td>\n",
       "      <td>266.0</td>\n",
       "      <td>4.053642</td>\n",
       "    </tr>\n",
       "    <tr>\n",
       "      <th>3</th>\n",
       "      <td>38487</td>\n",
       "      <td>Williamsport, TN 38487, USA</td>\n",
       "      <td>762</td>\n",
       "      <td>41.6</td>\n",
       "      <td>38125.0</td>\n",
       "      <td>18884</td>\n",
       "      <td>24.409449</td>\n",
       "      <td>35.731037</td>\n",
       "      <td>-87.241930</td>\n",
       "      <td>0</td>\n",
       "      <td>78.0</td>\n",
       "      <td>10.236220</td>\n",
       "    </tr>\n",
       "    <tr>\n",
       "      <th>4</th>\n",
       "      <td>58466</td>\n",
       "      <td>Marion, ND 58466, USA</td>\n",
       "      <td>509</td>\n",
       "      <td>44.5</td>\n",
       "      <td>69844.0</td>\n",
       "      <td>36981</td>\n",
       "      <td>9.430255</td>\n",
       "      <td>46.559422</td>\n",
       "      <td>-98.348154</td>\n",
       "      <td>1</td>\n",
       "      <td>6.0</td>\n",
       "      <td>1.178782</td>\n",
       "    </tr>\n",
       "  </tbody>\n",
       "</table>\n",
       "</div>"
      ],
      "text/plain": [
       "   Zipcode                      Address  Population  Median Age  \\\n",
       "0    49058      Hastings, MI 49058, USA       19031        40.8   \n",
       "1    71405          Ball, LA 71405, USA        5687        35.8   \n",
       "2    20634   Great Mills, MD 20634, USA        6562        31.9   \n",
       "3    38487  Williamsport, TN 38487, USA         762        41.6   \n",
       "4    58466        Marion, ND 58466, USA         509        44.5   \n",
       "\n",
       "   Household Income  Per Capita Income  Poverty Rate        Lat        Lng  \\\n",
       "0           46777.0              22137     13.183753  42.630692 -85.292938   \n",
       "1           55242.0              23941     15.737647  31.406180 -92.396174   \n",
       "2           79944.0              35961      9.295946  38.220161 -76.496792   \n",
       "3           38125.0              18884     24.409449  35.731037 -87.241930   \n",
       "4           69844.0              36981      9.430255  46.559422 -98.348154   \n",
       "\n",
       "   Bank Count  Unemployment  Unemployment Rate  \n",
       "0           9        1011.0           5.312385  \n",
       "1          12         260.0           4.571830  \n",
       "2           9         266.0           4.053642  \n",
       "3           0          78.0          10.236220  \n",
       "4           1           6.0           1.178782  "
      ]
     },
     "execution_count": 18,
     "metadata": {},
     "output_type": "execute_result"
    }
   ],
   "source": [
    "data['Zipcode'] = pd.to_numeric(data['Zipcode'])\n",
    "census_pd['Zipcode'] = pd.to_numeric(census_pd['Zipcode'])\n",
    "\n",
    "data_full = data.merge(census_pd,on='Zipcode',how='inner')\n",
    "data_full['Unemployment Rate'] = 100 * data_full['Unemployment']/data_full['Population']\n",
    "data_full.head()\n",
    "\n"
   ]
  },
  {
   "cell_type": "code",
   "execution_count": 39,
   "metadata": {},
   "outputs": [
    {
     "data": {
      "application/vnd.jupyter.widget-view+json": {
       "model_id": "5c0fd376a0fb460a951b466ff61a6d14",
       "version_major": 2,
       "version_minor": 0
      },
      "text/plain": [
       "Figure(layout=FigureLayout(height='420px'))"
      ]
     },
     "metadata": {},
     "output_type": "display_data"
    }
   ],
   "source": [
    "fig = gmaps.figure()\n",
    "location = data_full[['Lat','Lng']]\n",
    "markers = gmaps.marker_layer(location)\n",
    "fig.add_layer(gmaps.heatmap_layer(location, weights=data_full['Unemployment Rate'],\n",
    "                                 max_intensity = 50,\n",
    "                                  dissipating=False,point_radius=1))\n",
    "\n",
    "fig"
   ]
  },
  {
   "cell_type": "code",
   "execution_count": 41,
   "metadata": {},
   "outputs": [
    {
     "data": {
      "application/vnd.jupyter.widget-view+json": {
       "model_id": "743c04f52c7548b28714e2f297667c5e",
       "version_major": 2,
       "version_minor": 0
      },
      "text/plain": [
       "Figure(layout=FigureLayout(height='420px'))"
      ]
     },
     "metadata": {},
     "output_type": "display_data"
    }
   ],
   "source": [
    "bank_rate = data_full['Bank Count'].tolist()\n",
    "\n",
    "fig = gmaps.figure()\n",
    "layer = gmaps.symbol_layer(location,\n",
    "                           fill_color='rgba(0,150,0,0.4)',\n",
    "                           stroke_color='rgba(0,0,150,0.4)',scale=2,\n",
    "                          info_box_content=[f'# of Banks In Area: {bank}'for bank in bank_rate])\n",
    "\n",
    "fig.add_layer(layer)\n",
    "fig\n"
   ]
  },
  {
   "cell_type": "code",
   "execution_count": 43,
   "metadata": {},
   "outputs": [
    {
     "data": {
      "application/vnd.jupyter.widget-view+json": {
       "model_id": "c329255dc5904727811796654e8bab75",
       "version_major": 2,
       "version_minor": 0
      },
      "text/plain": [
       "Figure(layout=FigureLayout(height='420px'))"
      ]
     },
     "metadata": {},
     "output_type": "display_data"
    }
   ],
   "source": [
    "fig = gmaps.figure()\n",
    "\n",
    "fig.add_layer(gmaps.heatmap_layer(location, weights=data_full['Unemployment Rate'],\n",
    "                                 max_intensity = 50,\n",
    "                                  dissipating=False,point_radius=1))\n",
    "fig.add_layer(layer)\n",
    "\n",
    "fig"
   ]
  }
 ],
 "metadata": {
  "kernelspec": {
   "display_name": "Python 3",
   "language": "python",
   "name": "python3"
  },
  "language_info": {
   "codemirror_mode": {
    "name": "ipython",
    "version": 3
   },
   "file_extension": ".py",
   "mimetype": "text/x-python",
   "name": "python",
   "nbconvert_exporter": "python",
   "pygments_lexer": "ipython3",
   "version": "3.6.5"
  }
 },
 "nbformat": 4,
 "nbformat_minor": 2
}
