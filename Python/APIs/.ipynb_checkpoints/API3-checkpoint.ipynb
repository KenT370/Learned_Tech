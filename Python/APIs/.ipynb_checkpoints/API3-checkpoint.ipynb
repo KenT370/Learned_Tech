{
 "cells": [
  {
   "cell_type": "code",
   "execution_count": 1,
   "metadata": {},
   "outputs": [],
   "source": [
    "import requests\n",
    "import json\n",
    "\n",
    "from config import key\n",
    "\n",
    "geo_url = 'https://maps.googleapis.com/maps/api/geocode/json?address='\n",
    "place_url = 'https://maps.googleapis.com/maps/api/place/nearbysearch/json?location='\n"
   ]
  },
  {
   "cell_type": "code",
   "execution_count": 2,
   "metadata": {},
   "outputs": [
    {
     "name": "stdout",
     "output_type": "stream",
     "text": [
      "The GeoCoordinates for Seattle, Washington are 47.6062095,-122.3320708.\n"
     ]
    }
   ],
   "source": [
    "# Geocoordinates (latitude/longitude) of Seattle, Washington\n",
    "\n",
    "url = geo_url + 'Seattle,+Washington&key=%s' % (key)\n",
    "response = requests.get(url).json()\n",
    "latitude = response['results'][0]['geometry']['location']['lat']\n",
    "longitude = response['results'][0]['geometry']['location']['lng']\n",
    "print(f'The GeoCoordinates for Seattle, Washington are {latitude},{longitude}.')"
   ]
  },
  {
   "cell_type": "code",
   "execution_count": 3,
   "metadata": {},
   "outputs": [
    {
     "name": "stdout",
     "output_type": "stream",
     "text": [
      "The GeoCoordinates for The White House are 38.8976763,-77.0365298.\n"
     ]
    }
   ],
   "source": [
    "# 2. What are the geocoordinates (latitude/longitude) of The White House?\n",
    "\n",
    "url = geo_url + 'White,+House&key=%s' % (key)\n",
    "response = requests.get(url).json()\n",
    "\n",
    "lat = response['results'][0]['geometry']['location']['lat']\n",
    "long = response['results'][0]['geometry']['location']['lng']\n",
    "\n",
    "print(f'The GeoCoordinates for The White House are {lat},{long}.')"
   ]
  },
  {
   "cell_type": "code",
   "execution_count": 4,
   "metadata": {},
   "outputs": [
    {
     "name": "stdout",
     "output_type": "stream",
     "text": [
      "The name of the bike store is The Bicycle Repair Shop and their address is 68 Madison Street, Seattle.  They are open now: False.\n"
     ]
    }
   ],
   "source": [
    "# 3. Find the name and address of a bike store in Seattle, Washington.\n",
    "\n",
    "url = place_url + f'{latitude}, {longitude}&radius=1500&type=bicycle_store&key=%s' % (key)\n",
    "response = requests.get(url).json()\n",
    "name = response['results'][0]['name']\n",
    "address = response['results'][0]['vicinity']\n",
    "open_now = response['results'][0]['opening_hours']['open_now']\n",
    "\n",
    "print(f'The name of the bike store is {name} and their address is {address}.  They are open now: {open_now}.')"
   ]
  },
  {
   "cell_type": "code",
   "execution_count": 5,
   "metadata": {},
   "outputs": [
    {
     "name": "stdout",
     "output_type": "stream",
     "text": [
      "The name of the balloon store is GreenWorks Flowers and their address is 1455 Pennsylvania Avenue Northwest, Washington.  They are open now: False.\n"
     ]
    }
   ],
   "source": [
    "# 4. Find a balloon store near the White House.\n",
    "url = place_url + f'{lat}, {long}&radius=1500&type=florist&key=%s' % (key)\n",
    "response = requests.get(url).json()\n",
    "name = response['results'][0]['name']\n",
    "address = response['results'][0]['vicinity']\n",
    "open_now = response['results'][0]['opening_hours']['open_now']\n",
    "print(f'The name of the balloon store is {name} and their address is {address}.  They are open now: {open_now}.')"
   ]
  },
  {
   "cell_type": "code",
   "execution_count": 6,
   "metadata": {},
   "outputs": [
    {
     "name": "stdout",
     "output_type": "stream",
     "text": [
      "The nearest Dentist to my House is Polk Regina L DDS.\n"
     ]
    }
   ],
   "source": [
    "# 5. Find the nearest dentist to your house.\n",
    "\n",
    "url = geo_url + '5035+Andrea+st,+Houston,+TX&key=%s' % (key)\n",
    "\n",
    "response = requests.get(url).json()\n",
    "\n",
    "lat = response['results'][0]['geometry']['bounds']['northeast']['lat']\n",
    "long = response['results'][0]['geometry']['bounds']['northeast']['lng']\n",
    "\n",
    "url = place_url +f'{lat}, {long}&rankby=distance&type=dentist&key=%s' % (key)\n",
    "\n",
    "response = requests.get(url).json()\n",
    "name = response['results'][0]['name']\n",
    "\n",
    "print(f'The nearest Dentist to my House is {name}.')"
   ]
  },
  {
   "cell_type": "code",
   "execution_count": 7,
   "metadata": {},
   "outputs": [],
   "source": [
    "# Airport \n",
    "\n",
    "import pandas as pd\n",
    "url = 'https://maps.googleapis.com/maps/api/geocode/json'\n",
    "place_url = 'https://maps.googleapis.com/maps/api/place/nearbysearch/json'\n",
    "\n",
    "cities = pd.read_csv('Cities.csv')\n",
    "\n",
    "\n",
    "for index, row in cities.iterrows():\n",
    "    city = row['City']\n",
    "    state = row['State']\n",
    "    \n",
    "    params = {\n",
    "        'address':f'{city}, {state}',\n",
    "        'key':key}\n",
    "    \n",
    "    response = requests.get(url,params=params).json()\n",
    "    \n",
    "    lat = response['results'][0]['geometry']['location']\n",
    "    long = response['results'][0]['geometry']['location']\n",
    "    \n",
    "    cities.loc[index, 'Lat'] = lat.get('lat', '')\n",
    "    cities.loc[index,'long'] = long.get('lng','')\n",
    "    \n",
    "    lat = lat.get('lat','')\n",
    "    long = long.get('lng','')\n",
    "    \n",
    "    params = {\n",
    "        'location': f'{lat},{long}',\n",
    "        'key':key,\n",
    "        'type':'airport',\n",
    "        'radius':50000,\n",
    "        'keyword':'international airport'\n",
    "    }\n",
    "    \n",
    "    response = requests.get(place_url,params=params).json()\n",
    "    result = response.get('results')\n",
    "    \n",
    "    try:\n",
    "        nearest_airport = result[0]\n",
    "        cities.loc[index,'Name'] = response['results'][0]['name']\n",
    "        cities.loc[index,'Address'] = response['results'][0]['vicinity']\n",
    "        cities.loc[index,'rating'] = response['results'][0]['rating']\n",
    "    except:\n",
    "        print(f'No Results for {city}')\n",
    "    "
   ]
  },
  {
   "cell_type": "code",
   "execution_count": 23,
   "metadata": {
    "scrolled": true
   },
   "outputs": [
    {
     "data": {
      "text/plain": [
       "0    3.7\n",
       "1    3.5\n",
       "2    3.6\n",
       "3    0.0\n",
       "4    3.3\n",
       "Name: rating, dtype: float64"
      ]
     },
     "execution_count": 23,
     "metadata": {},
     "output_type": "execute_result"
    }
   ],
   "source": [
    "import gmaps\n",
    "\n",
    "locations = cities[['Lat','long']]\n",
    "rating = cities['rating']\n",
    "#marker = gmaps.marker_layer(locations)\n",
    "gmaps.configure(api_key=key)\n",
    "gmaps.figure()\n",
    "cities.head()\n",
    "rating.head()"
   ]
  },
  {
   "cell_type": "code",
   "execution_count": null,
   "metadata": {},
   "outputs": [],
   "source": []
  }
 ],
 "metadata": {
  "kernelspec": {
   "display_name": "Python 3",
   "language": "python",
   "name": "python3"
  },
  "language_info": {
   "codemirror_mode": {
    "name": "ipython",
    "version": 3
   },
   "file_extension": ".py",
   "mimetype": "text/x-python",
   "name": "python",
   "nbconvert_exporter": "python",
   "pygments_lexer": "ipython3",
   "version": "3.6.5"
  }
 },
 "nbformat": 4,
 "nbformat_minor": 2
}
