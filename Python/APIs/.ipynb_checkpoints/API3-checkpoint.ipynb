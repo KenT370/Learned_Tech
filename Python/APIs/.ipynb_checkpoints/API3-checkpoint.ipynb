{
 "cells": [
  {
   "cell_type": "code",
   "execution_count": 7,
   "metadata": {},
   "outputs": [],
   "source": [
    "import requests\n",
    "import json\n",
    "\n",
    "from config import key\n",
    "\n",
    "geo_url = 'https://maps.googleapis.com/maps/api/geocode/json?address='\n",
    "place_url = 'https://maps.googleapis.com/maps/api/place/nearbysearch/json?location='\n"
   ]
  },
  {
   "cell_type": "code",
   "execution_count": 24,
   "metadata": {},
   "outputs": [
    {
     "name": "stdout",
     "output_type": "stream",
     "text": [
      "The GeoCoordinates for Seattle, Washington are 47.6062095,-122.3320708.\n"
     ]
    }
   ],
   "source": [
    "# 1. What are the geocoordinates (latitude/longitude) of Seattle, Washington?\n",
    "url = geo_url + 'Seattle,+Washington&key=%s' % (key)\n",
    "response = requests.get(url).json()\n",
    "latitude = response['results'][0]['geometry']['location']['lat']\n",
    "longitude = response['results'][0]['geometry']['location']['lng']\n",
    "print(f'The GeoCoordinates for Seattle, Washington are {latitude},{longitude}.')"
   ]
  },
  {
   "cell_type": "code",
   "execution_count": 45,
   "metadata": {},
   "outputs": [
    {
     "name": "stdout",
     "output_type": "stream",
     "text": [
      "The GeoCoordinates for The White House are 38.8976763,-77.0365298.\n"
     ]
    }
   ],
   "source": [
    "# 2. What are the geocoordinates (latitude/longitude) of The White House?\n",
    "url = geo_url + 'White,+House&key=%s' % (key)\n",
    "response = requests.get(url).json()\n",
    "\n",
    "lat = response['results'][0]['geometry']['location']['lat']\n",
    "long = response['results'][0]['geometry']['location']['lng']\n",
    "\n",
    "print(f'The GeoCoordinates for The White House are {lat},{long}.')"
   ]
  },
  {
   "cell_type": "code",
   "execution_count": 58,
   "metadata": {},
   "outputs": [
    {
     "name": "stdout",
     "output_type": "stream",
     "text": [
      "The name of the bike store is Rollin Cycles Bicycle Shop and their address is 1314 14th Street Northwest Suite A, Washington.  They are open now: True.\n"
     ]
    }
   ],
   "source": [
    "# 3. Find the name and address of a bike store in Seattle, Washington.\n",
    "#    Hint: See https://developers.google.com/places/web-service/supported_types\n",
    "\n",
    "url = place_url + f'{lat}, {long}&radius=1500&type=bicycle_store&key=%s' % (key)\n",
    "response = requests.get(url).json()\n",
    "name = response['results'][0]['name']\n",
    "address = response['results'][0]['vicinity']\n",
    "open_now = response['results'][0]['opening_hours']['open_now']\n",
    "\n",
    "print(f'The name of the bike store is {name} and their address is {address}.  They are open now: {open_now}.')"
   ]
  },
  {
   "cell_type": "code",
   "execution_count": 42,
   "metadata": {},
   "outputs": [
    {
     "data": {
      "text/plain": [
       "{'html_attributions': [],\n",
       " 'results': [{'geometry': {'location': {'lat': -33.8585683,\n",
       "     'lng': 151.2100387},\n",
       "    'viewport': {'northeast': {'lat': -33.85722262010728,\n",
       "      'lng': 151.2112398798927},\n",
       "     'southwest': {'lat': -33.85992227989272, 'lng': 151.2085402201073}}},\n",
       "   'icon': 'https://maps.gstatic.com/mapfiles/place_api/icons/bar-71.png',\n",
       "   'id': '8e980ad0c819c33cdb1cea31e72d654ca61a7065',\n",
       "   'name': 'Cruise Bar, Restaurant & Events',\n",
       "   'opening_hours': {'open_now': False},\n",
       "   'photos': [{'height': 1134,\n",
       "     'html_attributions': ['<a href=\"https://maps.google.com/maps/contrib/112582655193348962755/photos\">A Google User</a>'],\n",
       "     'photo_reference': 'CmRaAAAAuUnAvrH5JayfNQe-Ev8OaP_3Tt3qsJTMCe93RrrvoStsdrmSOG7j7sI7Qp0bz4zaWexo0_ZkZi-7bYCWgdZRE1EYXAnTOy4ZdTcdOH7tYe9QvFQ4ZjKOdNDRnDsU1l7eEhCoPWdK-Y6JMu8xDQzBbFhRGhS3CRFcYxJx-KFPzSdog6LNuNCC6A',\n",
       "     'width': 2048}],\n",
       "   'place_id': 'ChIJi6C1MxquEmsR9-c-3O48ykI',\n",
       "   'plus_code': {'compound_code': '46R6+H2 The Rocks, New South Wales',\n",
       "    'global_code': '4RRH46R6+H2'},\n",
       "   'price_level': 2,\n",
       "   'rating': 4,\n",
       "   'reference': 'ChIJi6C1MxquEmsR9-c-3O48ykI',\n",
       "   'scope': 'GOOGLE',\n",
       "   'types': ['bar',\n",
       "    'restaurant',\n",
       "    'point_of_interest',\n",
       "    'food',\n",
       "    'establishment'],\n",
       "   'user_ratings_total': 742,\n",
       "   'vicinity': 'Level 1, 2 and 3, Overseas Passenger Terminal, Circular Quay West, NSW 2000, Circular Quay W, The Rocks'},\n",
       "  {'geometry': {'location': {'lat': -33.8675921, 'lng': 151.2015849},\n",
       "    'viewport': {'northeast': {'lat': -33.86624227010728,\n",
       "      'lng': 151.2029347298927},\n",
       "     'southwest': {'lat': -33.86894192989272, 'lng': 151.2002350701073}}},\n",
       "   'icon': 'https://maps.gstatic.com/mapfiles/place_api/icons/generic_business-71.png',\n",
       "   'id': 'a97f9fb468bcd26b68a23072a55af82d4b325e0d',\n",
       "   'name': 'Australian Cruise Group',\n",
       "   'opening_hours': {'open_now': False},\n",
       "   'photos': [{'height': 417,\n",
       "     'html_attributions': ['<a href=\"https://maps.google.com/maps/contrib/110751364053842618118/photos\">Australian Cruise Group</a>'],\n",
       "     'photo_reference': 'CmRaAAAA4tMBuqO8a46AKXFPiuT80WUMGU2GSPQrf8KiqLCntYbBryfY2rD4WKlw0PzrnUix_9Z1_sDDheipMPn5iAkTxdh0KrjmQfZO-YbpEYt624t4uXgFK48ljheC2HelhpF0EhBQ3vcV5ZXRWTdBtnLRz2aeGhTpMd0UBqFidoc50xD0wCAuuGahXA',\n",
       "     'width': 1334}],\n",
       "   'place_id': 'ChIJrTLr-GyuEmsRBfy61i59si0',\n",
       "   'plus_code': {'compound_code': '46J2+XJ Sydney, New South Wales',\n",
       "    'global_code': '4RRH46J2+XJ'},\n",
       "   'rating': 4.6,\n",
       "   'reference': 'ChIJrTLr-GyuEmsRBfy61i59si0',\n",
       "   'scope': 'GOOGLE',\n",
       "   'types': ['travel_agency',\n",
       "    'restaurant',\n",
       "    'point_of_interest',\n",
       "    'food',\n",
       "    'establishment'],\n",
       "   'user_ratings_total': 176,\n",
       "   'vicinity': '32 The Promenade, King Street Wharf 5, Sydney'}],\n",
       " 'status': 'OK'}"
      ]
     },
     "execution_count": 42,
     "metadata": {},
     "output_type": "execute_result"
    }
   ],
   "source": [
    "# 4. Find a balloon store near the White House.\n"
   ]
  },
  {
   "cell_type": "code",
   "execution_count": null,
   "metadata": {},
   "outputs": [],
   "source": [
    "# 5. Find the nearest dentist to your house.\n",
    "#    Hint: Use Google Maps to find your latitude and Google Places to find the\n",
    "#    dentist. You will also need the rankby property."
   ]
  },
  {
   "cell_type": "code",
   "execution_count": null,
   "metadata": {},
   "outputs": [],
   "source": [
    "# 6. Bonus: Find the names and addresses of the top five restaurants in your home city.\n",
    "#    Hint: Read about \"Text Search Results\"\n",
    "# (https://developers.google.com/places/web-service/search#TextSearchRequests)"
   ]
  }
 ],
 "metadata": {
  "kernelspec": {
   "display_name": "Python 3",
   "language": "python",
   "name": "python3"
  },
  "language_info": {
   "codemirror_mode": {
    "name": "ipython",
    "version": 3
   },
   "file_extension": ".py",
   "mimetype": "text/x-python",
   "name": "python",
   "nbconvert_exporter": "python",
   "pygments_lexer": "ipython3",
   "version": "3.7.0"
  }
 },
 "nbformat": 4,
 "nbformat_minor": 2
}
