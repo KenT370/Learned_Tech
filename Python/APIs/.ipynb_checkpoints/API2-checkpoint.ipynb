{
 "cells": [
  {
   "cell_type": "code",
   "execution_count": 36,
   "metadata": {},
   "outputs": [],
   "source": [
    "# Learning about API wrappers, exception handling, and using Pandas with API responses\n",
    "\n",
    "import json\n",
    "import requests"
   ]
  },
  {
   "cell_type": "code",
   "execution_count": 34,
   "metadata": {},
   "outputs": [
    {
     "name": "stdout",
     "output_type": "stream",
     "text": [
      "The Title is: Google Developers Day US - Maps API Introduction.\n",
      "The rating is: 4.63.\n",
      "The Link is: http://www.youtube.com/watch?vu003dhYB0mn5zh2c.\n",
      "The Number of Views is: 220101.\n"
     ]
    }
   ],
   "source": [
    "# Navigate a Json File (Youtube)\n",
    "\n",
    "filepath = 'youtube_response.json'\n",
    "with open(filepath) as jsonfile:\n",
    "    json_data = json.load(jsonfile)\n",
    "val = json_data['data']['items'][0]\n",
    "\n",
    "# Retrieve the video's title\n",
    "print(f'The Title is: {val[\"title\"]}.')\n",
    "\n",
    "# Retrieve the video's rating\n",
    "print(f'The rating is: {val[\"rating\"]}.')\n",
    "\n",
    "# Retrieve the link to the video's thumbnail\n",
    "print(f'The Link is: {val[\"player\"][\"default\"]}.')\n",
    "\n",
    "# Retrieve the Number of views\n",
    "print(f'The Number of Views is: {val[\"viewCount\"]}.')"
   ]
  },
  {
   "cell_type": "code",
   "execution_count": 44,
   "metadata": {},
   "outputs": [
    {
     "name": "stdout",
     "output_type": "stream",
     "text": [
      "The first response is: {\n",
      "  \"saved\": true,\n",
      "  \"_id\": \"5c91374e37fa9100142bb840\",\n",
      "  \"headline\": \"A Mar-a-Lago Weekend and an Act of God: Trump\\u2019s History With Deutsche BankCohen\\u2019s Emails Were Sought by Special Counsel in July 2017, Records ShowHere are some of the revelations from The Times\\u2019s investigation into Mr. Trump\\u2019s ties to the bank.\",\n",
      "  \"summary\": \"Federal authorities began investigating Michael D. Cohen, President Trump\\u2019s former lawyer, only months after Mr. Trump took office.\",\n",
      "  \"url\": \"https://www.nytimes.com/2019/03/18/business/trump-deutsche-bank.html\",\n",
      "  \"date\": \"2019-03-19T18:39:10.710Z\",\n",
      "  \"__v\": 0\n",
      "}.\n",
      "The last response is: {\n",
      "  \"saved\": true,\n",
      "  \"_id\": \"5c91374e37fa9100142bb840\",\n",
      "  \"headline\": \"A Mar-a-Lago Weekend and an Act of God: Trump\\u2019s History With Deutsche BankCohen\\u2019s Emails Were Sought by Special Counsel in July 2017, Records ShowHere are some of the revelations from The Times\\u2019s investigation into Mr. Trump\\u2019s ties to the bank.\",\n",
      "  \"summary\": \"Federal authorities began investigating Michael D. Cohen, President Trump\\u2019s former lawyer, only months after Mr. Trump took office.\",\n",
      "  \"url\": \"https://www.nytimes.com/2019/03/18/business/trump-deutsche-bank.html\",\n",
      "  \"date\": \"2019-03-19T18:39:10.710Z\",\n",
      "  \"__v\": 0\n",
      "}.\n",
      "We Received 1 responses.\n"
     ]
    }
   ],
   "source": [
    "response = requests.get('http://nyt-mongo-scraper.herokuapp.com/api/headlines').json()\n",
    "print(f'The first response is: {json.dumps(response[0], indent=2)}.')\n",
    "print(f'The last response is: {json.dumps(response[-1], indent=2)}.')\n",
    "print(f'We Received {len(response)} responses.')"
   ]
  },
  {
   "cell_type": "code",
   "execution_count": null,
   "metadata": {},
   "outputs": [],
   "source": []
  }
 ],
 "metadata": {
  "kernelspec": {
   "display_name": "Python 3",
   "language": "python",
   "name": "python3"
  },
  "language_info": {
   "codemirror_mode": {
    "name": "ipython",
    "version": 3
   },
   "file_extension": ".py",
   "mimetype": "text/x-python",
   "name": "python",
   "nbconvert_exporter": "python",
   "pygments_lexer": "ipython3",
   "version": "3.7.0"
  }
 },
 "nbformat": 4,
 "nbformat_minor": 2
}
