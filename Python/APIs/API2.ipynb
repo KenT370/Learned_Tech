{
 "cells": [
  {
   "cell_type": "code",
   "execution_count": 1,
   "metadata": {},
   "outputs": [],
   "source": [
    "# Learning about API wrappers, exception handling, and using Pandas with API responses\n",
    "\n",
    "import json\n",
    "import requests"
   ]
  },
  {
   "cell_type": "code",
   "execution_count": 34,
   "metadata": {},
   "outputs": [
    {
     "name": "stdout",
     "output_type": "stream",
     "text": [
      "The Title is: Google Developers Day US - Maps API Introduction.\n",
      "The rating is: 4.63.\n",
      "The Link is: http://www.youtube.com/watch?vu003dhYB0mn5zh2c.\n",
      "The Number of Views is: 220101.\n"
     ]
    }
   ],
   "source": [
    "# Navigate a Json File (Youtube)\n",
    "\n",
    "filepath = 'youtube_response.json'\n",
    "with open(filepath) as jsonfile:\n",
    "    json_data = json.load(jsonfile)\n",
    "val = json_data['data']['items'][0]\n",
    "\n",
    "# Retrieve the video's title\n",
    "print(f'The Title is: {val[\"title\"]}.')\n",
    "\n",
    "# Retrieve the video's rating\n",
    "print(f'The rating is: {val[\"rating\"]}.')\n",
    "\n",
    "# Retrieve the link to the video's thumbnail\n",
    "print(f'The Link is: {val[\"player\"][\"default\"]}.')\n",
    "\n",
    "# Retrieve the Number of views\n",
    "print(f'The Number of Views is: {val[\"viewCount\"]}.')"
   ]
  },
  {
   "cell_type": "code",
   "execution_count": 44,
   "metadata": {},
   "outputs": [
    {
     "name": "stdout",
     "output_type": "stream",
     "text": [
      "The first response is: {\n",
      "  \"saved\": true,\n",
      "  \"_id\": \"5c91374e37fa9100142bb840\",\n",
      "  \"headline\": \"A Mar-a-Lago Weekend and an Act of God: Trump\\u2019s History With Deutsche BankCohen\\u2019s Emails Were Sought by Special Counsel in July 2017, Records ShowHere are some of the revelations from The Times\\u2019s investigation into Mr. Trump\\u2019s ties to the bank.\",\n",
      "  \"summary\": \"Federal authorities began investigating Michael D. Cohen, President Trump\\u2019s former lawyer, only months after Mr. Trump took office.\",\n",
      "  \"url\": \"https://www.nytimes.com/2019/03/18/business/trump-deutsche-bank.html\",\n",
      "  \"date\": \"2019-03-19T18:39:10.710Z\",\n",
      "  \"__v\": 0\n",
      "}.\n",
      "The last response is: {\n",
      "  \"saved\": true,\n",
      "  \"_id\": \"5c91374e37fa9100142bb840\",\n",
      "  \"headline\": \"A Mar-a-Lago Weekend and an Act of God: Trump\\u2019s History With Deutsche BankCohen\\u2019s Emails Were Sought by Special Counsel in July 2017, Records ShowHere are some of the revelations from The Times\\u2019s investigation into Mr. Trump\\u2019s ties to the bank.\",\n",
      "  \"summary\": \"Federal authorities began investigating Michael D. Cohen, President Trump\\u2019s former lawyer, only months after Mr. Trump took office.\",\n",
      "  \"url\": \"https://www.nytimes.com/2019/03/18/business/trump-deutsche-bank.html\",\n",
      "  \"date\": \"2019-03-19T18:39:10.710Z\",\n",
      "  \"__v\": 0\n",
      "}.\n",
      "We Received 1 responses.\n"
     ]
    }
   ],
   "source": [
    "response = requests.get('http://nyt-mongo-scraper.herokuapp.com/api/headlines').json()\n",
    "print(f'The first response is: {json.dumps(response[0], indent=2)}.')\n",
    "print(f'The last response is: {json.dumps(response[-1], indent=2)}.')\n",
    "print(f'We Received {len(response)} responses.')"
   ]
  },
  {
   "cell_type": "code",
   "execution_count": 12,
   "metadata": {},
   "outputs": [
    {
     "name": "stdout",
     "output_type": "stream",
     "text": [
      "Input a City and Country in Order to get todays weather (format example: London,uk)London\n",
      "The current temperature in London is 9.31 Degrees Celsius.\n"
     ]
    }
   ],
   "source": [
    "# \n",
    "\n",
    "key = '95ba9028e3c3203ff7ed52c0a97be499'\n",
    "url = 'http://api.openweathermap.org/data/2.5/weather?q='\n",
    "rest_of_url = '&units=metric&APPID='\n",
    "\n",
    "query = input('Input a City and Country in Order to get todays weather (format example: London,uk)')\n",
    "\n",
    "\n",
    "response = requests.get(url + query + rest_of_url + key).json()\n",
    "\n",
    "print(f'The current temperature in {query} is {response[\"main\"][\"temp\"]} Degrees Celsius.')\n"
   ]
  },
  {
   "cell_type": "code",
   "execution_count": 27,
   "metadata": {},
   "outputs": [],
   "source": [
    "# Reads a List of Data to an API, Create a DataFrame from the responses\n",
    "# and then display the data in a graph\n",
    "\n",
    "url = 'https://api.tvmaze.com/singlesearch/shows?q='\n",
    "shows = ['Altered Carbon',\"Grey's Anatomy\",\"This is Us\",\"The Flash\",\"The Sopranos\",\"Shameless\",\"Arrow\",\"Westworld\",\"Peaky Blinders\"]\n",
    "\n",
    "show_list = []\n",
    "rating = []\n",
    "\n",
    "for show in shows:\n",
    "    response = requests.get(url+show).json()\n",
    "    rating.append(response['rating']['average'])\n",
    "    show_list.append(show)\n",
    "movie_dict = {\n",
    "    'Show':show_list,\n",
    "    'Ratings':rating\n",
    "}"
   ]
  },
  {
   "cell_type": "code",
   "execution_count": 43,
   "metadata": {},
   "outputs": [
    {
     "data": {
      "image/png": "[encoded data removed]",
      "text/plain": [
       "<Figure size 432x288 with 1 Axes>"
      ]
     },
     "metadata": {},
     "output_type": "display_data"
    }
   ],
   "source": [
    "import matplotlib.pyplot as plt\n",
    "\n",
    "plt.bar(movie_dict['Show'],movie_dict['Ratings'],align='center')\n",
    "plt.xticks(rotation=45 , ha='right')\n",
    "plt.ylabel('Ratings')\n",
    "plt.xlabel('TV Show')\n",
    "plt.title('My Fav Shows and Their Ratings')\n",
    "plt.show()"
   ]
  },
  {
   "cell_type": "code",
   "execution_count": 59,
   "metadata": {},
   "outputs": [],
   "source": [
    "# Using API Wrappers\n",
    "\n",
    "import openweathermapy as ow\n",
    "cities = ['Paris','London','Oslo','Beijing','Moscow','Vladivostok','Osaka','Honolulu','Montevideo','Erbil']\n",
    "\n",
    "settings = {'units':'metric','appid':key}\n",
    "\n",
    "temp_data = []\n",
    "long = []\n",
    "lat = []\n",
    "all_city =[city for city in cities]\n",
    "for city in cities:\n",
    "    weather = ow.get_current(city,**settings)\n",
    "    \n",
    "    temperature = ['main.temp']\n",
    "    longitude = ['coord.lon']\n",
    "    latitude = ['coord.lat']\n",
    "    \n",
    "    temp = weather(*temperature)\n",
    "    data = weather(*longitude)\n",
    "    data_lat = weather(*latitude)\n",
    "    \n",
    "    all_city.append(city)\n",
    "    temp_data.append(temp)\n",
    "    long.append(data)\n",
    "    lat.append(data_lat)\n",
    "    \n",
    "weather_dict = {\n",
    "    'City':all_city,\n",
    "    'Latitude':lat,\n",
    "    'Longitude':long\n",
    "}\n"
   ]
  },
  {
   "cell_type": "code",
   "execution_count": 60,
   "metadata": {},
   "outputs": [
    {
     "data": {
      "text/plain": [
       "{'City': ['Paris',\n",
       "  'London',\n",
       "  'Oslo',\n",
       "  'Beijing',\n",
       "  'Moscow',\n",
       "  'Vladivostok',\n",
       "  'Osaka',\n",
       "  'Honolulu',\n",
       "  'Montevideo',\n",
       "  'Erbil'],\n",
       " 'Latitude': [48.86,\n",
       "  51.51,\n",
       "  59.91,\n",
       "  39.91,\n",
       "  55.75,\n",
       "  43.12,\n",
       "  34.7,\n",
       "  21.3,\n",
       "  44.94,\n",
       "  36.19],\n",
       " 'Longitude': [2.35,\n",
       "  -0.13,\n",
       "  10.74,\n",
       "  116.39,\n",
       "  37.62,\n",
       "  131.89,\n",
       "  135.5,\n",
       "  -157.86,\n",
       "  -95.72,\n",
       "  44.01]}"
      ]
     },
     "execution_count": 60,
     "metadata": {},
     "output_type": "execute_result"
    }
   ],
   "source": [
    "weather_dict\n"
   ]
  },
  {
   "cell_type": "code",
   "execution_count": null,
   "metadata": {},
   "outputs": [],
   "source": []
  }
 ],
 "metadata": {
  "kernelspec": {
   "display_name": "Python 3",
   "language": "python",
   "name": "python3"
  },
  "language_info": {
   "codemirror_mode": {
    "name": "ipython",
    "version": 3
   },
   "file_extension": ".py",
   "mimetype": "text/x-python",
   "name": "python",
   "nbconvert_exporter": "python",
   "pygments_lexer": "ipython3",
   "version": "3.6.5"
  }
 },
 "nbformat": 4,
 "nbformat_minor": 2
}
