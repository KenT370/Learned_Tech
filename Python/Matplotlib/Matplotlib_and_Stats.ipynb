{
 "cells": [
  {
   "cell_type": "code",
   "execution_count": 68,
   "metadata": {},
   "outputs": [],
   "source": [
    "import pandas as pd\n",
    "from statistics import mean\n",
    "from scipy.stats import sem\n",
    "import matplotlib.pyplot as plt"
   ]
  },
  {
   "cell_type": "code",
   "execution_count": 69,
   "metadata": {},
   "outputs": [
    {
     "data": {
      "text/html": [
       "<div>\n",
       "<style scoped>\n",
       "    .dataframe tbody tr th:only-of-type {\n",
       "        vertical-align: middle;\n",
       "    }\n",
       "\n",
       "    .dataframe tbody tr th {\n",
       "        vertical-align: top;\n",
       "    }\n",
       "\n",
       "    .dataframe thead th {\n",
       "        text-align: right;\n",
       "    }\n",
       "</style>\n",
       "<table border=\"1\" class=\"dataframe\">\n",
       "  <thead>\n",
       "    <tr style=\"text-align: right;\">\n",
       "      <th></th>\n",
       "      <th>CRIM</th>\n",
       "      <th>ZN</th>\n",
       "      <th>INDUS</th>\n",
       "      <th>CHAS</th>\n",
       "      <th>NOX</th>\n",
       "      <th>RM</th>\n",
       "      <th>AGE</th>\n",
       "      <th>DIS</th>\n",
       "      <th>RAD</th>\n",
       "      <th>TAX</th>\n",
       "      <th>PTRATIO</th>\n",
       "      <th>B</th>\n",
       "      <th>LSTAT</th>\n",
       "      <th>MEDV</th>\n",
       "    </tr>\n",
       "  </thead>\n",
       "  <tbody>\n",
       "    <tr>\n",
       "      <th>0</th>\n",
       "      <td>0.00632</td>\n",
       "      <td>18.0</td>\n",
       "      <td>2.31</td>\n",
       "      <td>0</td>\n",
       "      <td>0.538</td>\n",
       "      <td>6.575</td>\n",
       "      <td>65.2</td>\n",
       "      <td>4.0900</td>\n",
       "      <td>1</td>\n",
       "      <td>296</td>\n",
       "      <td>15.3</td>\n",
       "      <td>396.90</td>\n",
       "      <td>4.98</td>\n",
       "      <td>24.0</td>\n",
       "    </tr>\n",
       "    <tr>\n",
       "      <th>1</th>\n",
       "      <td>0.02731</td>\n",
       "      <td>0.0</td>\n",
       "      <td>7.07</td>\n",
       "      <td>0</td>\n",
       "      <td>0.469</td>\n",
       "      <td>6.421</td>\n",
       "      <td>78.9</td>\n",
       "      <td>4.9671</td>\n",
       "      <td>2</td>\n",
       "      <td>242</td>\n",
       "      <td>17.8</td>\n",
       "      <td>396.90</td>\n",
       "      <td>9.14</td>\n",
       "      <td>21.6</td>\n",
       "    </tr>\n",
       "    <tr>\n",
       "      <th>2</th>\n",
       "      <td>0.02729</td>\n",
       "      <td>0.0</td>\n",
       "      <td>7.07</td>\n",
       "      <td>0</td>\n",
       "      <td>0.469</td>\n",
       "      <td>7.185</td>\n",
       "      <td>61.1</td>\n",
       "      <td>4.9671</td>\n",
       "      <td>2</td>\n",
       "      <td>242</td>\n",
       "      <td>17.8</td>\n",
       "      <td>392.83</td>\n",
       "      <td>4.03</td>\n",
       "      <td>34.7</td>\n",
       "    </tr>\n",
       "    <tr>\n",
       "      <th>3</th>\n",
       "      <td>0.03237</td>\n",
       "      <td>0.0</td>\n",
       "      <td>2.18</td>\n",
       "      <td>0</td>\n",
       "      <td>0.458</td>\n",
       "      <td>6.998</td>\n",
       "      <td>45.8</td>\n",
       "      <td>6.0622</td>\n",
       "      <td>3</td>\n",
       "      <td>222</td>\n",
       "      <td>18.7</td>\n",
       "      <td>394.63</td>\n",
       "      <td>2.94</td>\n",
       "      <td>33.4</td>\n",
       "    </tr>\n",
       "    <tr>\n",
       "      <th>4</th>\n",
       "      <td>0.06905</td>\n",
       "      <td>0.0</td>\n",
       "      <td>2.18</td>\n",
       "      <td>0</td>\n",
       "      <td>0.458</td>\n",
       "      <td>7.147</td>\n",
       "      <td>54.2</td>\n",
       "      <td>6.0622</td>\n",
       "      <td>3</td>\n",
       "      <td>222</td>\n",
       "      <td>18.7</td>\n",
       "      <td>396.90</td>\n",
       "      <td>5.33</td>\n",
       "      <td>36.2</td>\n",
       "    </tr>\n",
       "  </tbody>\n",
       "</table>\n",
       "</div>"
      ],
      "text/plain": [
       "      CRIM    ZN  INDUS  CHAS    NOX     RM   AGE     DIS  RAD  TAX  PTRATIO  \\\n",
       "0  0.00632  18.0   2.31     0  0.538  6.575  65.2  4.0900    1  296     15.3   \n",
       "1  0.02731   0.0   7.07     0  0.469  6.421  78.9  4.9671    2  242     17.8   \n",
       "2  0.02729   0.0   7.07     0  0.469  7.185  61.1  4.9671    2  242     17.8   \n",
       "3  0.03237   0.0   2.18     0  0.458  6.998  45.8  6.0622    3  222     18.7   \n",
       "4  0.06905   0.0   2.18     0  0.458  7.147  54.2  6.0622    3  222     18.7   \n",
       "\n",
       "        B  LSTAT  MEDV  \n",
       "0  396.90   4.98  24.0  \n",
       "1  396.90   9.14  21.6  \n",
       "2  392.83   4.03  34.7  \n",
       "3  394.63   2.94  33.4  \n",
       "4  396.90   5.33  36.2  "
      ]
     },
     "execution_count": 69,
     "metadata": {},
     "output_type": "execute_result"
    }
   ],
   "source": [
    "data =pd.read_csv('housing_data.csv',header=None,names=['CRIM','ZN','INDUS','CHAS','NOX','RM','AGE','DIS','RAD','TAX','PTRATIO'\n",
    "                                                      ,'B','LSTAT','MEDV'])\n",
    "data.head()"
   ]
  },
  {
   "cell_type": "code",
   "execution_count": 70,
   "metadata": {},
   "outputs": [],
   "source": [
    "# Shuffle Data + Creating a bunch of Samples\n",
    "\n",
    "shuffled = data.sample(frac=1).reset_index(drop=True)\n",
    "div = 20\n",
    "lim = len(shuffled) // div\n",
    "samples = [shuffled.iloc[(i * div):(i * div + div), 13]\n",
    "            for i in range(0,lim)]\n"
   ]
  },
  {
   "cell_type": "code",
   "execution_count": 71,
   "metadata": {},
   "outputs": [
    {
     "data": {
      "image/png": "[encoded data removed]",
      "text/plain": [
       "<Figure size 432x288 with 1 Axes>"
      ]
     },
     "metadata": {},
     "output_type": "display_data"
    }
   ],
   "source": [
    "# Calculate the Means, Standard Error, and Plot\n",
    "\n",
    "means = [mean(i) for i in samples]\n",
    "standard_e = [sem(i)for i in samples]\n",
    "x = range(0,len(samples))\n",
    "plt.errorbar(x, means, yerr=standard_e, fmt='o')\n",
    "plt.ylabel('Mean of Sample')\n",
    "plt.xlabel('Sample Number')\n",
    "plt.grid()"
   ]
  },
  {
   "cell_type": "code",
   "execution_count": 72,
   "metadata": {},
   "outputs": [
    {
     "name": "stdout",
     "output_type": "stream",
     "text": [
      "Mean Height of Women BB Players: 72.32\n",
      "Mean Height of Sampled Women BB Players: 64.65\n",
      "T Statistic (Higher Val = Samples come from 2 Diff Pop's): 16.6616700596016\n",
      "P Val (<.05 = They are From Two Diff Pop's): 5.475440583739991e-47\n"
     ]
    }
   ],
   "source": [
    "# T-Test, Can only be used for two samples\n",
    "\n",
    "from random import randint\n",
    "import numpy as np\n",
    "from scipy.stats import ttest_ind\n",
    "\n",
    "wba = pd.read_csv('wba_data.csv')\n",
    "sample = pd.read_csv('general_heights.csv')\n",
    "\n",
    "heights = sample.astype('int64')\n",
    "\n",
    "mean_height = mean(wba.iloc[:,-1])\n",
    "mean_sample_height = mean(heights.iloc[:,-1])\n",
    "\n",
    "print(\"Mean Height of Women BB Players: \" + str(mean_height))\n",
    "print(\"Mean Height of Sampled Women BB Players: \"+str(mean_sample_height))\n",
    "\n",
    "t, p = ttest_ind(wba.iloc[:,-1],heights)\n",
    "print(\"T Statistic (Higher Val = Samples come from 2 Diff Pop's): \"+str(t[0]))\n",
    "print(\"P Val (<.05 = They are From Two Diff Pop's): \"+str(p[0]))"
   ]
  },
  {
   "cell_type": "code",
   "execution_count": 77,
   "metadata": {},
   "outputs": [
    {
     "data": {
      "text/plain": [
       "(64, 73)"
      ]
     },
     "execution_count": 77,
     "metadata": {},
     "output_type": "execute_result"
    },
    {
     "data": {
      "image/png": "[encoded data removed]",
      "text/plain": [
       "<Figure size 432x288 with 1 Axes>"
      ]
     },
     "metadata": {},
     "output_type": "display_data"
    }
   ],
   "source": [
    "sample_stan = sem(sample)\n",
    "wba_stan = sem(wba.iloc[:,-1])\n",
    "\n",
    "x = ['Sample','WBA']\n",
    "mean = [mean_sample_height,mean_height]\n",
    "stan = [sample_stan,wba_stan]\n",
    "\n",
    "plt.errorbar(x,mean,yerr=stan,fmt='o')\n",
    "plt.xlabel(\"Sample Group\")\n",
    "plt.ylabel(\"Height\")\n",
    "plt.title(\"Are WBA Women Taller Than the General Population?\",fontsize=12)\n",
    "plt.xlim(-0.5,1.5)\n",
    "plt.ylim(64,73)\n"
   ]
  },
  {
   "cell_type": "code",
   "execution_count": 143,
   "metadata": {},
   "outputs": [
    {
     "data": {
      "image/png": "[encoded data removed]",
      "text/plain": [
       "<Figure size 432x288 with 3 Axes>"
      ]
     },
     "metadata": {},
     "output_type": "display_data"
    }
   ],
   "source": [
    "# Fits and Regression Using SciPy\n",
    "\n",
    "from scipy.stats import linregress\n",
    "\n",
    "data = pd.read_csv('crime_data.csv')\n",
    "year = data.iloc[:,0]\n",
    "total_crime_rate = data.iloc[:,3]\n",
    "murder_rate = data.iloc[:,5]\n",
    "assault_rate = data.iloc[:,11]\n",
    "\n",
    "slopeT, interceptT, r_value, std_err, p_value = linregress(year,total_crime_rate)\n",
    "slopeM, interceptM, r_value, std_err, p_value = linregress(year,murder_rate)\n",
    "slopeA, interceptA, r_value, std_err, p_value = linregress(year,assault_rate)\n",
    "\n",
    "fit_T = slopeT * year + interceptT\n",
    "fit_M = slopeM * year + interceptM\n",
    "fit_A = slopeA * year + interceptA\n",
    "\n",
    "fig, (ax1,ax2,ax3) = plt.subplots(3,sharex=True)\n",
    "\n",
    "fig.suptitle(\"Crime Rates Over Time\")\n",
    "\n",
    "ax1.plot(year, fit_T,label='Total Crime Rate')\n",
    "ax1.scatter(year,total_crime_rate)\n",
    "ax1.set_ylabel('Total Crime Rate')\n",
    "\n",
    "ax2.plot(year, fit_M,label='Murder Rate',color='r')\n",
    "ax2.scatter(year,murder_rate,color='r')\n",
    "ax2.set_ylabel('Murder Rate')\n",
    "\n",
    "ax3.plot(year, fit_A,label='Assault Rate',color='orange')\n",
    "ax3.scatter(year,assault_rate,color='orange')\n",
    "ax3.set_ylabel('Assault Rate')\n",
    "\n",
    "plt.show()"
   ]
  },
  {
   "cell_type": "code",
   "execution_count": 155,
   "metadata": {},
   "outputs": [
    {
     "data": {
      "image/png": "[encoded data removed]",
      "text/plain": [
       "<Figure size 432x288 with 1 Axes>"
      ]
     },
     "metadata": {},
     "output_type": "display_data"
    }
   ],
   "source": [
    "# Utilizing the Regression to Predict Total Crime Rates for 2019 - 2029\n",
    "\n",
    "year = range(2019,2030)\n",
    "predicted_crime = slopeT * year + interceptT\n",
    "\n",
    "fig, ax = plt.subplots()\n",
    "\n",
    "ax.plot(year,predicted_crime)\n",
    "ax.scatter(year,predicted_crime,marker='o')\n",
    "\n",
    "fig.suptitle('Predicted Total Crime Rates for 2019 - 2029')\n",
    "plt.show()"
   ]
  },
  {
   "cell_type": "code",
   "execution_count": null,
   "metadata": {},
   "outputs": [],
   "source": []
  }
 ],
 "metadata": {
  "kernelspec": {
   "display_name": "Python 3",
   "language": "python",
   "name": "python3"
  },
  "language_info": {
   "codemirror_mode": {
    "name": "ipython",
    "version": 3
   },
   "file_extension": ".py",
   "mimetype": "text/x-python",
   "name": "python",
   "nbconvert_exporter": "python",
   "pygments_lexer": "ipython3",
   "version": "3.6.5"
  }
 },
 "nbformat": 4,
 "nbformat_minor": 2
}
