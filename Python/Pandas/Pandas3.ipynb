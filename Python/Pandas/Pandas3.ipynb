{
 "cells": [
  {
   "cell_type": "code",
   "execution_count": 1,
   "metadata": {},
   "outputs": [],
   "source": [
    "import pandas as pd"
   ]
  },
  {
   "cell_type": "code",
   "execution_count": 2,
   "metadata": {},
   "outputs": [],
   "source": [
    "# Merging DataFrames (inner,outer,left,right)\n",
    "# cut() method and using bin"
   ]
  },
  {
   "cell_type": "code",
   "execution_count": 3,
   "metadata": {},
   "outputs": [
    {
     "name": "stdout",
     "output_type": "stream",
     "text": [
      "        Date    Open    High     Low   Close     Volume     Market Cap\n",
      "0  17-Sep-17  438.90  438.90  384.06  419.86  221828000  7,279,520,000\n",
      "1  16-Sep-17  424.49  450.98  388.20  440.22  313583000  7,039,590,000\n",
      "2  15-Sep-17  369.49  448.39  301.69  424.02  707231000  6,126,800,000\n",
      "-----------------------------------------------------------------------\n",
      "        Date    Open    High     Low   Close    Volume     Market Cap\n",
      "0  17-Sep-17  298.59  315.58  278.17  313.84  38081600  2,257,850,000\n",
      "1  16-Sep-17  284.50  301.23  276.57  298.86  43702600  2,150,800,000\n",
      "2  15-Sep-17  236.05  300.11  220.51  284.36  72695500  1,784,040,000\n"
     ]
    }
   ],
   "source": [
    "bitcoin = pd.read_csv('bitcoin_cash_price.csv')\n",
    "dash = pd.read_csv('dash_price.csv')\n",
    "print(bitcoin.head(3))\n",
    "print('-----------------------------------------------------------------------')\n",
    "print(dash.head(3))"
   ]
  },
  {
   "cell_type": "code",
   "execution_count": 4,
   "metadata": {},
   "outputs": [
    {
     "name": "stdout",
     "output_type": "stream",
     "text": [
      "        Date  Open_x  High_x   Low_x  Close_x   Volume_x   Market Cap_x  \\\n",
      "0  17-Sep-17  438.90  438.90  384.06   419.86  221828000  7,279,520,000   \n",
      "1  16-Sep-17  424.49  450.98  388.20   440.22  313583000  7,039,590,000   \n",
      "2  15-Sep-17  369.49  448.39  301.69   424.02  707231000  6,126,800,000   \n",
      "\n",
      "   Open_y  High_y   Low_y  Close_y  Volume_y   Market Cap_y  \n",
      "0  298.59  315.58  278.17   313.84  38081600  2,257,850,000  \n",
      "1  284.50  301.23  276.57   298.86  43702600  2,150,800,000  \n",
      "2  236.05  300.11  220.51   284.36  72695500  1,784,040,000  \n",
      "--------------------------------------------------\n",
      "   Open_x  Close_x  Open_y  Close_y   Volume_x  Volume_y\n",
      "0  438.90   419.86  298.59   313.84  221828000  38081600\n",
      "1  424.49   440.22  284.50   298.86  313583000  43702600\n",
      "2  369.49   424.02  236.05   284.36  707231000  72695500\n",
      "--------------------------------------------------\n",
      "Best Bitcoin Open: 772.42\n",
      "Best Dash Open: 400.42\n",
      "Best Bitcoin Close: 213.15\n",
      "Best Dash Close: 172.82\n",
      "Total Bitcoin Volume (M): 24383.05\n",
      "Best Dash Volume (M): 2960.28\n"
     ]
    }
   ],
   "source": [
    "# Full Merge, DataFrame Manipulation and Output\n",
    "\n",
    "merged = pd.merge(bitcoin, dash, on='Date')\n",
    "print(merged.head(3))\n",
    "print('--------------------------------------------------')\n",
    "merged = merged.loc[:,['Open_x','Close_x','Open_y','Close_y','Volume_x','Volume_y']]\n",
    "print(merged.head(3))\n",
    "print('--------------------------------------------------')\n",
    "print('Best Bitcoin Open: ' + str(merged['Open_x'].max()) +'\\nBest Dash Open: '+str(merged['Open_y'].max())+\n",
    "      '\\nBest Bitcoin Close: '+str(merged['Close_x'].min())+'\\nBest Dash Close: '+str(merged['Close_y'].min())+\n",
    "      '\\nTotal Bitcoin Volume (M): '+str(round(merged['Volume_x'].sum()/int(1000000), 2))+'\\nBest Dash Volume (M): '+str(round(merged['Volume_y'].sum()/int(1000000),2)))\n"
   ]
  },
  {
   "cell_type": "code",
   "execution_count": 26,
   "metadata": {},
   "outputs": [
    {
     "name": "stdout",
     "output_type": "stream",
     "text": [
      "  comments                                        description duration  \\\n",
      "0     4553  Sir Ken Robinson makes an entertaining and pro...     1164   \n",
      "1      265  With the same humor and humanity he exuded in ...      977   \n",
      "2      124  New York Times columnist David Pogue takes aim...     1286   \n",
      "\n",
      "     event languages  main_speaker                                       name  \\\n",
      "0  TED2006        60  Ken Robinson  Ken Robinson: Do schools kill creativity?   \n",
      "1  TED2006        43       Al Gore       Al Gore: Averting the climate crisis   \n",
      "2  TED2006        26   David Pogue              David Pogue: Simplicity sells   \n",
      "\n",
      "                         title       views     View Group  \n",
      "0  Do schools kill creativity?  47227110.0  5mil to 50mil  \n",
      "1  Averting the climate crisis   3200520.0   3mil to 4mil  \n",
      "2             Simplicity sells   1636292.0   1mil to 2mil  \n"
     ]
    }
   ],
   "source": [
    "# Creating Bins and Pushing Data into them\n",
    "\n",
    "data = pd.read_csv('ted_talks.csv')\n",
    "min_views = data['views'].min()\n",
    "max_views = data['views'].max()\n",
    "bins = [0, 199999,399999,599999,799999,999999,1999999,2999999,3999999,4999999,50000000]\n",
    "label = ['0 to 199k','299k to 399k','400k to 599k','600k to 799k','800k to 999k','1mil to 2mil','2mil to 3mil','3mil to 4mil','4mil to 5mil', '5mil to 50mil']\n",
    "data['View Group'] = pd.cut(data['views'],bins,labels = label)\n",
    "print(data.head(3))"
   ]
  },
  {
   "cell_type": "code",
   "execution_count": 130,
   "metadata": {},
   "outputs": [
    {
     "name": "stdout",
     "output_type": "stream",
     "text": [
      "Number of Instances per Group\n",
      "View Group\n",
      "0 to 199k          32\n",
      "299k to 399k      135\n",
      "400k to 599k      233\n",
      "600k to 799k      305\n",
      "800k to 999k      339\n",
      "1mil to 2mil     1001\n",
      "2mil to 3mil      238\n",
      "3mil to 4mil       93\n",
      "4mil to 5mil       67\n",
      "5mil to 50mil      99\n",
      "Name: event, dtype: int64\n"
     ]
    }
   ],
   "source": [
    "# Grouping by the Created Bins\n",
    "\n",
    "grouped = data.groupby('View Group')\n",
    "\n",
    "print('Number of Instances per Group')\n",
    "print(grouped['event'].count())"
   ]
  }
 ],
 "metadata": {
  "kernelspec": {
   "display_name": "Python 3",
   "language": "python",
   "name": "python3"
  },
  "language_info": {
   "codemirror_mode": {
    "name": "ipython",
    "version": 3
   },
   "file_extension": ".py",
   "mimetype": "text/x-python",
   "name": "python",
   "nbconvert_exporter": "python",
   "pygments_lexer": "ipython3",
   "version": "3.7.0"
  }
 },
 "nbformat": 4,
 "nbformat_minor": 2
}
