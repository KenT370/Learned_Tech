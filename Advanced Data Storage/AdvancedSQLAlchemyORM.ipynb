{
 "cells": [
  {
   "cell_type": "code",
   "execution_count": null,
   "metadata": {},
   "outputs": [],
   "source": [
    "# Create Classes that model tables\n",
    "# Perform CRUD Operations\n",
    "# Reflect Existing DB's\n",
    "# Use the SQLAlchemy Inspector\n",
    "# Plot query results from ORM"
   ]
  },
  {
   "cell_type": "code",
   "execution_count": 3,
   "metadata": {},
   "outputs": [],
   "source": [
    "from sqlalchemy import create_engine\n",
    "from sqlalchemy import Column, Integer, String, Float\n",
    "import os\n",
    "\n",
    "from sqlalchemy.ext.declarative import declarative_base\n",
    "Base = declarative_base()"
   ]
  },
  {
   "cell_type": "code",
   "execution_count": 104,
   "metadata": {},
   "outputs": [],
   "source": [
    "# Establish Connection to the Database\n",
    "file_path = os.path.abspath(os.getcwd())+\"\\sharksright.db\"\n",
    "engine = create_engine(f\"sqlite:///{file_path}\")\n",
    "Base.metadata.create_all(engine)\n",
    "conn = engine.connect()"
   ]
  },
  {
   "cell_type": "code",
   "execution_count": 105,
   "metadata": {},
   "outputs": [],
   "source": [
    "# Define the Table in the Database\n",
    "\n",
    "class sharks(Base):\n",
    "    __tablename__ = 'sharks'\n",
    "    id = Column(Integer,primary_key = True)\n",
    "    case_number = Column(Integer)\n",
    "    date = Column(String)\n",
    "    year = Column(Integer)\n",
    "    type = Column(String)\n",
    "    country = Column(String)\n",
    "    area = Column(String)\n",
    "    location = Column(String)\n",
    "    activity = Column(String)\n",
    "    name = Column(String)\n",
    "    sex = Column(String)\n",
    "    age = Column(Integer)\n",
    "    injury = Column(String)\n",
    "    fatal_y_n = Column(String)\n",
    "    time = Column(String)\n",
    "    species = Column(String)\n",
    "    investigator_or_source = Column(String) \n",
    "    pdf = Column(String)\n",
    "    "
   ]
  },
  {
   "cell_type": "code",
   "execution_count": 106,
   "metadata": {},
   "outputs": [
    {
     "name": "stdout",
     "output_type": "stream",
     "text": [
      "Point Casuarina, Bunbury\n",
      "Bateman's Bay\n",
      "Ponce Inlet, Volusia County\n",
      "Pulau Payar Island\n",
      "Alenuihaha Channel\n",
      "The Natural Jetty, Rottnest Island\n",
      "Near Albany\n",
      "Bourail\n",
      "Off Cape Point\n",
      "Taranaki\n",
      "Avalon\n",
      "Honokowai, Maui\n"
     ]
    }
   ],
   "source": [
    "from sqlalchemy.orm import Session\n",
    "session = Session(bind=engine)\n",
    "\n",
    "#Print all shark attack locations\n",
    "sharks = session.query(sharks)\n",
    "for shark in sharks:\n",
    "    print(shark.location)"
   ]
  },
  {
   "cell_type": "code",
   "execution_count": 117,
   "metadata": {},
   "outputs": [
    {
     "name": "stdout",
     "output_type": "stream",
     "text": [
      "12\n"
     ]
    }
   ],
   "source": [
    "# Print the number of provoked attacks\n",
    "provoked_attacks = session.query(Sharks).filter_by(type = 'Provoked').count()\n",
    "print(str(provoked_attacks))"
   ]
  },
  {
   "cell_type": "code",
   "execution_count": 131,
   "metadata": {},
   "outputs": [
    {
     "name": "stdout",
     "output_type": "stream",
     "text": [
      "28\n"
     ]
    }
   ],
   "source": [
    "# Print the number of attacks in the USA\n",
    "attacks = session.query(Sharks).filter_by(country = 'USA').count()\n",
    "print(str(attacks))"
   ]
  },
  {
   "cell_type": "code",
   "execution_count": 139,
   "metadata": {},
   "outputs": [
    {
     "name": "stdout",
     "output_type": "stream",
     "text": [
      "3\n"
     ]
    }
   ],
   "source": [
    "# Print the number of attacks in 2017 \n",
    "\n",
    "attacks = session.query(Sharks).filter_by(year = '2017').count()\n",
    "print(str(attacks))"
   ]
  },
  {
   "cell_type": "code",
   "execution_count": 141,
   "metadata": {},
   "outputs": [
    {
     "data": {
      "text/plain": [
       "34"
      ]
     },
     "execution_count": 141,
     "metadata": {},
     "output_type": "execute_result"
    }
   ],
   "source": [
    "# Print the number of attacks while surfing\n",
    "\n",
    "attacks = session.query(Sharks).filter_by(activity = 'Surfing').count()\n",
    "attacks\n"
   ]
  },
  {
   "cell_type": "code",
   "execution_count": 155,
   "metadata": {},
   "outputs": [
    {
     "data": {
      "text/plain": [
       "3"
      ]
     },
     "execution_count": 155,
     "metadata": {},
     "output_type": "execute_result"
    }
   ],
   "source": [
    "# Print the number of fatal shark attacks in 2017 in Australia\n",
    "\n",
    "attacks = session.query(Sharks).filter(Sharks.country=='AUSTRALIA')\\\n",
    "    .filter(Sharks.year =='2017').count()\n",
    "attacks\n"
   ]
  },
  {
   "cell_type": "code",
   "execution_count": 4,
   "metadata": {},
   "outputs": [],
   "source": [
    "# Updating and Deleting Rows\n",
    "\n",
    "# Creating a new Table called Garbage\n",
    "Base = declarative_base()\n",
    "class Garbage(Base):\n",
    "    __tablename__ = 'garbage_collection'\n",
    "    id = Column(Integer,primary_key = True)\n",
    "    item = Column(String(255))\n",
    "    weight = Column(Float)\n",
    "    collector = Column(String(255))\n",
    "\n",
    "# Creating new rows and their data\n",
    "item1 = Garbage(item='Trash Bag',weight=12.3,collector='Bob')\n",
    "item2 = Garbage(item='Plastic Toy',weight=14.5,collector='Jen')\n",
    "item3 = Garbage(item='Food',weight=2.3,collector='John')\n",
    "item4 = Garbage(item='Paper Towel',weight=3.4,collector='Andrew')\n",
    "item5 = Garbage(item='Wood',weight=5.6,collector='Sam')\n"
   ]
  },
  {
   "cell_type": "code",
   "execution_count": 6,
   "metadata": {},
   "outputs": [],
   "source": [
    "# Creating a database on my local machine & Connecting to it\n",
    "file_path = os.path.abspath(os.getcwd())+\"\\Garbage.db\"\n",
    "engine = create_engine(f\"sqlite:///{file_path}\")\n",
    "conn = engine.connect()\n",
    "\n",
    "# Uploading the table to the Garbage Database\n",
    "from sqlalchemy.orm import Session\n",
    "Base.metadata.create_all(engine)\n",
    "session = Session(bind=engine)"
   ]
  },
  {
   "cell_type": "code",
   "execution_count": 7,
   "metadata": {},
   "outputs": [],
   "source": [
    "# Adding & Saving the new rows to the database on my machine\n",
    "session.add(item1)\n",
    "session.add(item2)\n",
    "session.add(item3)\n",
    "session.add(item4)\n",
    "session.add(item5)\n",
    "session.commit()"
   ]
  },
  {
   "cell_type": "code",
   "execution_count": 10,
   "metadata": {},
   "outputs": [
    {
     "data": {
      "text/plain": [
       "'Susan'"
      ]
     },
     "execution_count": 10,
     "metadata": {},
     "output_type": "execute_result"
    }
   ],
   "source": [
    "# Changing the Different Values for two rows\n",
    "\n",
    "# Changing the trashbag weight from 12.3 to 14.3\n",
    "trash = session.query(Garbage).filter_by(item='Trash Bag').first()\n",
    "trash.weight = 14.3\n",
    "\n",
    "# Changing the Food Collector for Food from John to Susan\n",
    "trash = session.query(Garbage).filter_by(item='Food').first()\n",
    "trash.collector = 'Susan'\n"
   ]
  },
  {
   "cell_type": "code",
   "execution_count": 16,
   "metadata": {},
   "outputs": [],
   "source": [
    "# Deleting a row\n",
    "from sqlalchemy import func\n",
    "\n",
    "delete = session.query(Garbage).filter_by(item='Food').delete()\n",
    "session.commit()                        "
   ]
  },
  {
   "cell_type": "code",
   "execution_count": 18,
   "metadata": {},
   "outputs": [
    {
     "name": "stdout",
     "output_type": "stream",
     "text": [
      "------------\n",
      "ID: 1\n",
      "Item: Trash Bag\n",
      "Weight: 14.3\n",
      "Collector: Bob\n",
      "------------\n",
      "ID: 2\n",
      "Item: Plastic Toy\n",
      "Weight: 14.5\n",
      "Collector: Jen\n",
      "------------\n",
      "ID: 4\n",
      "Item: Paper Towel\n",
      "Weight: 3.4\n",
      "Collector: Andrew\n",
      "------------\n",
      "ID: 5\n",
      "Item: Wood\n",
      "Weight: 5.6\n",
      "Collector: Sam\n",
      "------------\n",
      "ID: 6\n",
      "Item: Trash Bag\n",
      "Weight: 12.3\n",
      "Collector: Bob\n",
      "------------\n",
      "ID: 7\n",
      "Item: Plastic Toy\n",
      "Weight: 14.5\n",
      "Collector: Jen\n",
      "------------\n",
      "ID: 9\n",
      "Item: Paper Towel\n",
      "Weight: 3.4\n",
      "Collector: Andrew\n",
      "------------\n",
      "ID: 10\n",
      "Item: Wood\n",
      "Weight: 5.6\n",
      "Collector: Sam\n"
     ]
    }
   ],
   "source": [
    "# Printing all Data in the Table\n",
    "items = session.query(Garbage)\n",
    "for item in items:\n",
    "    print('-'*12)\n",
    "    print(f'ID: {item.id}')\n",
    "    print(f'Item: {item.item}')\n",
    "    print(f'Weight: {item.weight}')\n",
    "    print(f'Collector: {item.collector}')\n",
    "    "
   ]
  },
  {
   "cell_type": "markdown",
   "metadata": {},
   "source": [
    "## Reflecting an Existing Database"
   ]
  },
  {
   "cell_type": "code",
   "execution_count": 53,
   "metadata": {},
   "outputs": [],
   "source": [
    "from sqlalchemy.ext.automap import automap_base\n",
    "import os\n",
    "\n",
    "file_path = os.path.abspath(os.getcwd())+\"/demographics.db\"\n",
    "engine = create_engine(f\"sqlite:///{file_path}\")"
   ]
  },
  {
   "cell_type": "code",
   "execution_count": 54,
   "metadata": {},
   "outputs": [],
   "source": [
    "# Creating a Base\n",
    "Base = automap_base()\n",
    "Base.prepare(engine,reflect=True)"
   ]
  },
  {
   "cell_type": "code",
   "execution_count": 55,
   "metadata": {},
   "outputs": [
    {
     "data": {
      "text/plain": [
       "['demographics']"
      ]
     },
     "execution_count": 55,
     "metadata": {},
     "output_type": "execute_result"
    }
   ],
   "source": [
    "# Showcase the Tables within the Database File\n",
    "Base.classes.keys()"
   ]
  },
  {
   "cell_type": "code",
   "execution_count": 56,
   "metadata": {},
   "outputs": [],
   "source": [
    "# Creates an Instance of the Demographic Table\n",
    "Demographic_table = Base.classes.demographics\n",
    "# Create a session\n",
    "session = Session(engine)"
   ]
  },
  {
   "cell_type": "code",
   "execution_count": 57,
   "metadata": {},
   "outputs": [
    {
     "data": {
      "text/plain": [
       "{'_sa_instance_state': <sqlalchemy.orm.state.InstanceState at 0x1fe6dddc0b8>,\n",
       " 'id': 0,\n",
       " 'location': 'South Dakota',\n",
       " 'salary': 68,\n",
       " 'occupation': 'Choreographer',\n",
       " 'weight_kg': 53.0,\n",
       " 'age': 58,\n",
       " 'academic_degree': 'PhD',\n",
       " 'children': 1,\n",
       " 'height_meter': 1.87}"
      ]
     },
     "execution_count": 57,
     "metadata": {},
     "output_type": "execute_result"
    }
   ],
   "source": [
    "# Print out the columns and first row data\n",
    "\n",
    "first_row = session.query(Demographic_table).first()\n",
    "first_row.__dict__"
   ]
  },
  {
   "cell_type": "code",
   "execution_count": 58,
   "metadata": {},
   "outputs": [
    {
     "name": "stdout",
     "output_type": "stream",
     "text": [
      "South Dakota\n",
      "Delaware\n",
      "South Dakota\n",
      "Louisiana\n",
      "West Virginia\n"
     ]
    }
   ],
   "source": [
    "# Print out the first 5 Locations\n",
    "five = session.query(Demographic_table).limit(5)\n",
    "for location in five:\n",
    "    print(location.location)"
   ]
  },
  {
   "cell_type": "code",
   "execution_count": 59,
   "metadata": {},
   "outputs": [
    {
     "name": "stdout",
     "output_type": "stream",
     "text": [
      "South Dakota\n",
      "Delaware\n",
      "Louisiana\n",
      "West Virginia\n",
      "Alaska\n"
     ]
    }
   ],
   "source": [
    "# Print out all the Unique Locations\n",
    "for val in session.query(Demographic_table.location).distinct():\n",
    "    print(val.location)"
   ]
  },
  {
   "cell_type": "markdown",
   "metadata": {},
   "source": [
    "## SQL Alchemy Inspector Tool\n",
    "### A lot easier way to view table information"
   ]
  },
  {
   "cell_type": "code",
   "execution_count": 62,
   "metadata": {},
   "outputs": [],
   "source": [
    "from sqlalchemy import inspect\n",
    "\n",
    "file_path = os.path.abspath(os.getcwd())+\"/testing.db\"\n",
    "engine = create_engine(f\"sqlite:///{file_path}\")"
   ]
  },
  {
   "cell_type": "code",
   "execution_count": 63,
   "metadata": {},
   "outputs": [
    {
     "data": {
      "text/plain": [
       "['Salaries']"
      ]
     },
     "execution_count": 63,
     "metadata": {},
     "output_type": "execute_result"
    }
   ],
   "source": [
    "# Get Table Names\n",
    "inspector = inspect(engine)\n",
    "inspector.get_table_names()"
   ]
  },
  {
   "cell_type": "code",
   "execution_count": 65,
   "metadata": {},
   "outputs": [
    {
     "name": "stdout",
     "output_type": "stream",
     "text": [
      "Id INTEGER\n",
      "EmployeeName TEXT\n",
      "JobTitle TEXT\n",
      "BasePay NUMERIC\n",
      "OvertimePay NUMERIC\n",
      "OtherPay NUMERIC\n",
      "Benefits NUMERIC\n",
      "TotalPay NUMERIC\n",
      "TotalPayBenefits NUMERIC\n",
      "Year INTEGER\n",
      "Notes TEXT\n",
      "Agency TEXT\n",
      "Status TEXT\n"
     ]
    }
   ],
   "source": [
    "# Get the Columns and Data Types for The Salaries Table\n",
    "columns = inspector.get_columns('Salaries')\n",
    "for val in columns:\n",
    "    print(val['name'], val['type'])"
   ]
  },
  {
   "cell_type": "code",
   "execution_count": 71,
   "metadata": {},
   "outputs": [
    {
     "data": {
      "text/plain": [
       "['Salaries']"
      ]
     },
     "execution_count": 71,
     "metadata": {},
     "output_type": "execute_result"
    }
   ],
   "source": [
    "# Reflect the Salary Table to view & Manipulate the Data\n",
    "Base = automap_base()\n",
    "Base.prepare(engine,reflect=True)\n",
    "\n",
    "Base.classes.keys()\n"
   ]
  },
  {
   "cell_type": "code",
   "execution_count": 73,
   "metadata": {},
   "outputs": [],
   "source": [
    "# Create the Table and Session\n",
    "table = Base.classes.Salaries\n",
    "session = Session(engine)"
   ]
  },
  {
   "cell_type": "code",
   "execution_count": 80,
   "metadata": {},
   "outputs": [
    {
     "data": {
      "text/plain": [
       "99212"
      ]
     },
     "execution_count": 80,
     "metadata": {},
     "output_type": "execute_result"
    }
   ],
   "source": [
    "# Count the Number of Salaries that are above 50,000\n",
    "val = session.query(table).filter(table.BasePay > 50000).count()\n",
    "val"
   ]
  },
  {
   "cell_type": "markdown",
   "metadata": {},
   "source": [
    "## Emoji Plotting"
   ]
  },
  {
   "cell_type": "code",
   "execution_count": 104,
   "metadata": {},
   "outputs": [],
   "source": [
    "# Connecting to the Database\n",
    "file_path = os.path.abspath(os.getcwd())+\"/emoji.db\"\n",
    "engine = create_engine(f\"sqlite:///{file_path}\")"
   ]
  },
  {
   "cell_type": "code",
   "execution_count": 105,
   "metadata": {},
   "outputs": [
    {
     "name": "stdout",
     "output_type": "stream",
     "text": [
      "The tables within the Database are: ['emoji']\n",
      "id INTEGER\n",
      "emoji_char TEXT\n",
      "emoji_id TEXT\n",
      "name TEXT\n",
      "score INTEGER\n"
     ]
    }
   ],
   "source": [
    "# Finding the name of the table and printing out the columns for the table\n",
    "inspector = inspect(engine)\n",
    "print(f'The tables within the Database are: {inspector.get_table_names()}')\n",
    "table = inspector.get_columns('emoji')\n",
    "\n",
    "for val in table:\n",
    "    print(val['name'],val['type'])"
   ]
  },
  {
   "cell_type": "code",
   "execution_count": 109,
   "metadata": {},
   "outputs": [
    {
     "name": "stdout",
     "output_type": "stream",
     "text": [
      "['emoji']\n"
     ]
    }
   ],
   "source": [
    "# Reflect the Database in order to access the Data\n",
    "Base = automap_base()\n",
    "Base.prepare(engine,reflect=True)\n",
    "print(Base.classes.keys())\n",
    "\n",
    "session = Session(engine)\n",
    "table = Base.classes.emoji"
   ]
  },
  {
   "cell_type": "code",
   "execution_count": 159,
   "metadata": {},
   "outputs": [
    {
     "name": "stdout",
     "output_type": "stream",
     "text": [
      "😂 1814832150\n",
      "❤️ 840619939\n",
      "😍 680382416\n",
      "♥️ 652715459\n",
      "😭 515991922\n",
      "😊 484540701\n",
      "♻️ 452489849\n",
      "😒 441690175\n",
      "💕 381679908\n",
      "😘 377847645\n"
     ]
    }
   ],
   "source": [
    "from sqlalchemy import desc\n",
    "v = session.query(table).order_by(desc(table.score)).limit(10)\n",
    "\n",
    "for row in v:\n",
    "    print(row.emoji_char,row.score)\n",
    "    \n",
    "scores = [row.score for row in v]\n",
    "emoji = [row.emoji_char for row in v]"
   ]
  },
  {
   "cell_type": "code",
   "execution_count": 160,
   "metadata": {},
   "outputs": [
    {
     "data": {
      "image/png": "[encoded data removed]",
      "text/plain": [
       "<Figure size 432x288 with 1 Axes>"
      ]
     },
     "metadata": {},
     "output_type": "display_data"
    },
    {
     "data": {
      "text/plain": [
       "<Figure size 360x288 with 0 Axes>"
      ]
     },
     "metadata": {},
     "output_type": "display_data"
    }
   ],
   "source": [
    "import matplotlib.pyplot as plt\n",
    "\n",
    "plt.barh(emoji, scores)\n",
    "plt.tick_params(axis='y',which='major',labelsize=25)\n",
    "plt.title('Top 10 Emojis')\n",
    "plt.figure(figsize=(5,4))\n",
    "plt.show()"
   ]
  }
 ],
 "metadata": {
  "kernelspec": {
   "display_name": "Python 3",
   "language": "python",
   "name": "python3"
  },
  "language_info": {
   "codemirror_mode": {
    "name": "ipython",
    "version": 3
   },
   "file_extension": ".py",
   "mimetype": "text/x-python",
   "name": "python",
   "nbconvert_exporter": "python",
   "pygments_lexer": "ipython3",
   "version": "3.6.5"
  }
 },
 "nbformat": 4,
 "nbformat_minor": 2
}
