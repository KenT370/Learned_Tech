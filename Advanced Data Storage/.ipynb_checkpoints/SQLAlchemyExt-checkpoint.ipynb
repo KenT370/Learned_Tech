{
 "cells": [
  {
   "cell_type": "code",
   "execution_count": 7,
   "metadata": {},
   "outputs": [],
   "source": [
    "from sqlalchemy import create_engine\n",
    "from sqlalchemy.ext.declarative import declarative_base\n",
    "from sqlalchemy import Column, Integer, String, Float, ForeignKey\n",
    "from sqlalchemy.orm import relationship\n",
    "import os\n",
    "\n",
    "Base = declarative_base()\n",
    "\n",
    "# Creating classes which are the beginnning of a table\n",
    "\n",
    "class Surfer(Base):\n",
    "    __tablename__ = 'surfers'\n",
    "    id = Column(Integer,primary_key = True)\n",
    "    name = Column(String(255))\n",
    "    hometown = Column(String(255))\n",
    "    wipeouts = Column(Integer)\n",
    "    rank = Column(Integer)\n",
    "    \n",
    "class Board(Base):\n",
    "    __tablename__ = 'surfboards'\n",
    "    id = Column(Integer,primary_key = True)\n",
    "    surfer_id = Column(Integer)\n",
    "    board_name = Column(String(255))\n",
    "    color = Column(String(255))\n",
    "    length = Column(Integer)"
   ]
  },
  {
   "cell_type": "code",
   "execution_count": 5,
   "metadata": {},
   "outputs": [],
   "source": [
    "# New Data Instances\n",
    "bob = Surfer(name='bob',hometown='Reno',rank=1)\n",
    "board1 = Board(surfer_id = 1,board_name='New Baby',color='Red',length=10)"
   ]
  },
  {
   "cell_type": "code",
   "execution_count": 9,
   "metadata": {},
   "outputs": [],
   "source": [
    "# Establish Connection to Surfer Database\n",
    "file_path = os.path.abspath(os.getcwd())+\"\\surfer.db\"\n",
    "engine = create_engine(f\"sqlite:///{file_path}\")\n",
    "conn = engine.connect()"
   ]
  },
  {
   "cell_type": "code",
   "execution_count": 10,
   "metadata": {},
   "outputs": [],
   "source": [
    "# Creates the Surfer and Board1 Table in the Database\n",
    "Base.metadata.create_all(conn)\n"
   ]
  },
  {
   "cell_type": "code",
   "execution_count": 12,
   "metadata": {},
   "outputs": [],
   "source": [
    "# Create a session in order to add new objects and query the specifc Surfer Table\n",
    "from sqlalchemy.orm import Session\n",
    "session = Session(bind=engine)\n",
    "session.add(bob)\n",
    "session.add(board1)\n",
    "session.commit()"
   ]
  },
  {
   "cell_type": "code",
   "execution_count": 16,
   "metadata": {},
   "outputs": [
    {
     "name": "stdout",
     "output_type": "stream",
     "text": [
      "Awwwyeah\n",
      "Blue\n",
      "68\n",
      "Awwwyeah\n",
      "Blue\n",
      "68\n",
      "New Baby\n",
      "Red\n",
      "10\n"
     ]
    }
   ],
   "source": [
    "# Use the Session to Query the Board table\n",
    "surfer_list = session.query(Board)\n",
    "for bro in surfer_list:\n",
    "    print(bro.board_name)\n",
    "    print(bro.color)\n",
    "    print(bro.length)"
   ]
  }
 ],
 "metadata": {
  "kernelspec": {
   "display_name": "Python 3",
   "language": "python",
   "name": "python3"
  },
  "language_info": {
   "codemirror_mode": {
    "name": "ipython",
    "version": 3
   },
   "file_extension": ".py",
   "mimetype": "text/x-python",
   "name": "python",
   "nbconvert_exporter": "python",
   "pygments_lexer": "ipython3",
   "version": "3.6.5"
  }
 },
 "nbformat": 4,
 "nbformat_minor": 2
}
