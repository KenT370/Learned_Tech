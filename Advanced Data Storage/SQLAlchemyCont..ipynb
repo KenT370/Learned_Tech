{
 "cells": [
  {
   "cell_type": "code",
   "execution_count": 1,
   "metadata": {},
   "outputs": [],
   "source": [
    "# Use Flask to create and run a server\n",
    "# Define endpoints using Flask's @app.route decorator\n",
    "# Extract query variable path values from GET Requests\n",
    "# Use variable paths to execute database queries on behalf of the client\n",
    "# Return JSONified query results from API endpoints"
   ]
  },
  {
   "cell_type": "markdown",
   "metadata": {},
   "source": [
    "# Analyze the Average Open, Average High, Average Low, Average Close for all Stocks for the month of May"
   ]
  },
  {
   "cell_type": "code",
   "execution_count": 109,
   "metadata": {},
   "outputs": [
    {
     "data": {
      "text/plain": [
       "['dow']"
      ]
     },
     "execution_count": 109,
     "metadata": {},
     "output_type": "execute_result"
    }
   ],
   "source": [
    "import os\n",
    "from sqlalchemy import create_engine, inspect, func,desc, asc\n",
    "from sqlalchemy.ext.automap import automap_base\n",
    "from sqlalchemy.orm import Session\n",
    "import datetime as dt\n",
    "from statistics import mean\n",
    "import matplotlib.pyplot as plt\n",
    "import pandas as pd\n",
    "\n",
    "path = os.path.abspath(os.getcwd())+\"\\dow.db\"\n",
    "engine = create_engine(f\"sqlite:///{path}\")\n",
    "\n",
    "inspector = inspect(engine)\n",
    "inspector.get_table_names()\n"
   ]
  },
  {
   "cell_type": "code",
   "execution_count": 23,
   "metadata": {},
   "outputs": [
    {
     "name": "stdout",
     "output_type": "stream",
     "text": [
      "id INTEGER\n",
      "quarter INTEGER\n",
      "stock TEXT\n",
      "date TEXT\n",
      "open_price FLOAT\n",
      "high_price FLOAT\n",
      "low_price FLOAT\n",
      "close_price FLOAT\n",
      "volume INTEGER\n",
      "percent_change FLOAT\n"
     ]
    }
   ],
   "source": [
    "columns = inspector.get_columns('dow')\n",
    "for column in columns:\n",
    "    print(column['name'],column['type'])"
   ]
  },
  {
   "cell_type": "code",
   "execution_count": 30,
   "metadata": {},
   "outputs": [
    {
     "data": {
      "text/plain": [
       "[(1, 1, 'AA', '2011-01-07', 15.82, 16.72, 15.78, 16.42, 239655616, None),\n",
       " (2, 1, 'AA', '2011-01-14', 16.71, 16.71, 15.64, 15.97, 242963398, None),\n",
       " (3, 1, 'AA', '2011-01-21', 16.19, 16.38, 15.6, 15.79, 138428495, None),\n",
       " (4, 1, 'AA', '2011-01-28', 15.87, 16.63, 15.82, 16.13, 151379173, None),\n",
       " (5, 1, 'AA', '2011-02-04', 16.18, 17.39, 16.18, 17.14, 154387761, None)]"
      ]
     },
     "execution_count": 30,
     "metadata": {},
     "output_type": "execute_result"
    }
   ],
   "source": [
    "engine.execute('select * from dow limit 5').fetchall()"
   ]
  },
  {
   "cell_type": "code",
   "execution_count": 29,
   "metadata": {},
   "outputs": [],
   "source": [
    "Base = automap_base()\n",
    "Base.prepare(engine,reflect=True)\n",
    "\n",
    "data = Base.classes.dow"
   ]
  },
  {
   "cell_type": "code",
   "execution_count": 46,
   "metadata": {},
   "outputs": [
    {
     "name": "stdout",
     "output_type": "stream",
     "text": [
      "2011-06-24\n",
      "2011-01-07\n"
     ]
    }
   ],
   "source": [
    "# Selecting the Open, High, Low, Close for All Stocks in May\n",
    "\n",
    "# Figuring out if the Data is only for the 2011 Year\n",
    "session = Session(engine)\n",
    "select = session.query(data).order_by(desc(data.date)).limit(1)\n",
    "for row in select:\n",
    "    print(row.date)\n",
    "    \n",
    "select = session.query(data).order_by(asc(data.date)).limit(1)\n",
    "for row in select:\n",
    "    print(row.date)"
   ]
  },
  {
   "cell_type": "code",
   "execution_count": 188,
   "metadata": {},
   "outputs": [
    {
     "data": {
      "text/plain": [
       "[('AA', 16.8475, 17.3375, 16.4175, 16.747500000000002),\n",
       " ('AXP', 49.89750000000001, 51.07, 49.315, 50.5025),\n",
       " ('BA', 78.7175, 79.2175, 76.8825, 78.2125),\n",
       " ('BAC', 12.0, 12.235, 11.7325, 11.8775),\n",
       " ('CAT', 108.5525, 110.5975, 104.045, 106.4),\n",
       " ('CSCO', 17.067500000000003, 17.255000000000003, 16.5925, 16.8575),\n",
       " ('CVX', 103.9725, 105.72749999999999, 100.4575, 102.76249999999999),\n",
       " ('DD', 53.9625, 54.9225, 52.14, 53.21),\n",
       " ('DIS', 42.3, 42.8175, 41.11749999999999, 41.900000000000006),\n",
       " ('GE', 19.96, 20.175, 19.4875, 19.740000000000002),\n",
       " ('HD', 36.765, 37.51, 36.504999999999995, 36.7625),\n",
       " ('HPQ', 39.315, 40.14, 37.8425, 38.54),\n",
       " ('IBM', 169.7025, 171.58, 166.9375, 169.11749999999998),\n",
       " ('INTC', 23.0975, 23.67, 22.652500000000003, 23.0225),\n",
       " ('JNJ', 65.6575, 66.8475, 65.0575, 66.08749999999999),\n",
       " ('JPM', 44.015, 44.709999999999994, 43.019999999999996, 43.527499999999996),\n",
       " ('KO', 67.5775, 68.32499999999999, 66.75750000000001, 67.4725),\n",
       " ('KRFT', 34.305, 35.0225, 33.945, 34.7375),\n",
       " ('MCD', 79.95750000000001, 81.5525, 79.8025, 80.8475),\n",
       " ('MMM', 95.17750000000001, 96.20750000000001, 93.2425, 94.66),\n",
       " ('MRK', 36.57, 37.184999999999995, 36.21, 36.685),\n",
       " ('MSFT', 25.2275, 25.5775, 24.677500000000002, 25.0375),\n",
       " ('PFE', 20.75, 21.1125, 20.3875, 20.7725),\n",
       " ('PG', 65.9075, 67.1825, 65.49249999999999, 66.4225),\n",
       " ('T', 31.28, 31.7, 30.974999999999998, 31.32),\n",
       " ('TRV', 62.7625, 63.3425, 61.879999999999995, 62.3825),\n",
       " ('UTX', 88.445, 89.20500000000001, 86.50249999999998, 88.005),\n",
       " ('VZ', 37.405, 37.6125, 36.7225, 37.09),\n",
       " ('WMT', 55.14, 55.9475, 54.237500000000004, 55.182500000000005),\n",
       " ('XOM', 82.8875, 84.27499999999999, 80.16999999999999, 81.94)]"
      ]
     },
     "execution_count": 188,
     "metadata": {},
     "output_type": "execute_result"
    }
   ],
   "source": [
    "# Filtering the data for only May and the correct columns\n",
    "\n",
    "select = session.query(data.stock\n",
    "                       ,func.avg(data.open_price)\n",
    "                       ,func.avg(data.high_price)\n",
    "                       ,func.avg(data.low_price)\n",
    "                       ,func.avg(data.close_price)).\\\n",
    "filter(func.strftime(\"%m\",data.date) == '05').group_by(data.stock).all()\n",
    "\n",
    "select"
   ]
  },
  {
   "cell_type": "code",
   "execution_count": 186,
   "metadata": {},
   "outputs": [
    {
     "data": {
      "image/png": "[encoded data removed]",
      "text/plain": [
       "<Figure size 1296x504 with 1 Axes>"
      ]
     },
     "metadata": {},
     "output_type": "display_data"
    }
   ],
   "source": [
    "# Creating a Bar Chart Showing the Data\n",
    "\n",
    "data_frame = pd.DataFrame(select,columns=['Stock','Avg Open Price','Avg High Price','Avg Low Price','Avg Close Price'])\n",
    "data_frame = data_frame.set_index('Stock')\n",
    "\n",
    "data_frame.plot(kind='bar',figsize=(18,7),rot=45)\n",
    "plt.show()"
   ]
  },
  {
   "cell_type": "markdown",
   "metadata": {},
   "source": [
    "# Calculate the High-Low Peak-to-Peak Values for IBM Stock after 2011-05-31"
   ]
  },
  {
   "cell_type": "code",
   "execution_count": 94,
   "metadata": {},
   "outputs": [
    {
     "data": {
      "text/plain": [
       "[5.759999999999991, 3.0900000000000034, 3.579999999999984, 3.219999999999999]"
      ]
     },
     "execution_count": 94,
     "metadata": {},
     "output_type": "execute_result"
    }
   ],
   "source": [
    "# Filtering the database for IBM stock prices after 5/31/2015\n",
    "\n",
    "select = session.query(data).filter_by(stock = 'IBM').\\\n",
    "filter(data.date > dt.date(2011,5,31))\n",
    "\n",
    "# Creating the PTP values (High Price - Low Price)\n",
    "ptp = [val.high_price - val.low_price for val in select]"
   ]
  },
  {
   "cell_type": "code",
   "execution_count": 182,
   "metadata": {},
   "outputs": [
    {
     "data": {
      "text/plain": [
       "<function matplotlib.pyplot.show(*args, **kw)>"
      ]
     },
     "execution_count": 182,
     "metadata": {},
     "output_type": "execute_result"
    },
    {
     "data": {
      "image/png": "[encoded data removed]",
      "text/plain": [
       "<Figure size 432x288 with 1 Axes>"
      ]
     },
     "metadata": {},
     "output_type": "display_data"
    }
   ],
   "source": [
    "# Creating a boxplot\n",
    "plt.boxplot(ptp)\n",
    "plt.xlabel('Peak to Peak Values')\n",
    "plt.title('IBM PTPs')\n",
    "plt.show"
   ]
  },
  {
   "cell_type": "code",
   "execution_count": null,
   "metadata": {},
   "outputs": [],
   "source": []
  },
  {
   "cell_type": "code",
   "execution_count": 194,
   "metadata": {},
   "outputs": [
    {
     "ename": "UnsupportedOperation",
     "evalue": "not writable",
     "output_type": "error",
     "traceback": [
      "\u001b[1;31m---------------------------------------------------------------------------\u001b[0m",
      "\u001b[1;31mUnsupportedOperation\u001b[0m                      Traceback (most recent call last)",
      "\u001b[1;32m<ipython-input-194-ae5d938b5c62>\u001b[0m in \u001b[0;36m<module>\u001b[1;34m()\u001b[0m\n\u001b[0;32m     18\u001b[0m \u001b[1;33m\u001b[0m\u001b[0m\n\u001b[0;32m     19\u001b[0m \u001b[1;32mif\u001b[0m \u001b[0m__name__\u001b[0m \u001b[1;33m==\u001b[0m \u001b[1;34m\"__main__\"\u001b[0m\u001b[1;33m:\u001b[0m\u001b[1;33m\u001b[0m\u001b[0m\n\u001b[1;32m---> 20\u001b[1;33m   \u001b[0mapp\u001b[0m\u001b[1;33m.\u001b[0m\u001b[0mrun\u001b[0m\u001b[1;33m(\u001b[0m\u001b[0mdebug\u001b[0m\u001b[1;33m=\u001b[0m\u001b[1;32mTrue\u001b[0m\u001b[1;33m)\u001b[0m\u001b[1;33m\u001b[0m\u001b[0m\n\u001b[0m",
      "\u001b[1;32m~\\Anaconda3\\lib\\site-packages\\flask\\app.py\u001b[0m in \u001b[0;36mrun\u001b[1;34m(self, host, port, debug, load_dotenv, **options)\u001b[0m\n\u001b[0;32m    936\u001b[0m         \u001b[0moptions\u001b[0m\u001b[1;33m.\u001b[0m\u001b[0msetdefault\u001b[0m\u001b[1;33m(\u001b[0m\u001b[1;34m'threaded'\u001b[0m\u001b[1;33m,\u001b[0m \u001b[1;32mTrue\u001b[0m\u001b[1;33m)\u001b[0m\u001b[1;33m\u001b[0m\u001b[0m\n\u001b[0;32m    937\u001b[0m \u001b[1;33m\u001b[0m\u001b[0m\n\u001b[1;32m--> 938\u001b[1;33m         \u001b[0mcli\u001b[0m\u001b[1;33m.\u001b[0m\u001b[0mshow_server_banner\u001b[0m\u001b[1;33m(\u001b[0m\u001b[0mself\u001b[0m\u001b[1;33m.\u001b[0m\u001b[0menv\u001b[0m\u001b[1;33m,\u001b[0m \u001b[0mself\u001b[0m\u001b[1;33m.\u001b[0m\u001b[0mdebug\u001b[0m\u001b[1;33m,\u001b[0m \u001b[0mself\u001b[0m\u001b[1;33m.\u001b[0m\u001b[0mname\u001b[0m\u001b[1;33m,\u001b[0m \u001b[1;32mFalse\u001b[0m\u001b[1;33m)\u001b[0m\u001b[1;33m\u001b[0m\u001b[0m\n\u001b[0m\u001b[0;32m    939\u001b[0m \u001b[1;33m\u001b[0m\u001b[0m\n\u001b[0;32m    940\u001b[0m         \u001b[1;32mfrom\u001b[0m \u001b[0mwerkzeug\u001b[0m\u001b[1;33m.\u001b[0m\u001b[0mserving\u001b[0m \u001b[1;32mimport\u001b[0m \u001b[0mrun_simple\u001b[0m\u001b[1;33m\u001b[0m\u001b[0m\n",
      "\u001b[1;32m~\\Anaconda3\\lib\\site-packages\\flask\\cli.py\u001b[0m in \u001b[0;36mshow_server_banner\u001b[1;34m(env, debug, app_import_path, eager_loading)\u001b[0m\n\u001b[0;32m    627\u001b[0m             \u001b[0mmessage\u001b[0m \u001b[1;33m+=\u001b[0m \u001b[1;34m' (lazy loading)'\u001b[0m\u001b[1;33m\u001b[0m\u001b[0m\n\u001b[0;32m    628\u001b[0m \u001b[1;33m\u001b[0m\u001b[0m\n\u001b[1;32m--> 629\u001b[1;33m         \u001b[0mclick\u001b[0m\u001b[1;33m.\u001b[0m\u001b[0mecho\u001b[0m\u001b[1;33m(\u001b[0m\u001b[0mmessage\u001b[0m\u001b[1;33m)\u001b[0m\u001b[1;33m\u001b[0m\u001b[0m\n\u001b[0m\u001b[0;32m    630\u001b[0m \u001b[1;33m\u001b[0m\u001b[0m\n\u001b[0;32m    631\u001b[0m     \u001b[0mclick\u001b[0m\u001b[1;33m.\u001b[0m\u001b[0mecho\u001b[0m\u001b[1;33m(\u001b[0m\u001b[1;34m' * Environment: {0}'\u001b[0m\u001b[1;33m.\u001b[0m\u001b[0mformat\u001b[0m\u001b[1;33m(\u001b[0m\u001b[0menv\u001b[0m\u001b[1;33m)\u001b[0m\u001b[1;33m)\u001b[0m\u001b[1;33m\u001b[0m\u001b[0m\n",
      "\u001b[1;32m~\\Anaconda3\\lib\\site-packages\\click\\utils.py\u001b[0m in \u001b[0;36mecho\u001b[1;34m(message, file, nl, err, color)\u001b[0m\n\u001b[0;32m    257\u001b[0m \u001b[1;33m\u001b[0m\u001b[0m\n\u001b[0;32m    258\u001b[0m     \u001b[1;32mif\u001b[0m \u001b[0mmessage\u001b[0m\u001b[1;33m:\u001b[0m\u001b[1;33m\u001b[0m\u001b[0m\n\u001b[1;32m--> 259\u001b[1;33m         \u001b[0mfile\u001b[0m\u001b[1;33m.\u001b[0m\u001b[0mwrite\u001b[0m\u001b[1;33m(\u001b[0m\u001b[0mmessage\u001b[0m\u001b[1;33m)\u001b[0m\u001b[1;33m\u001b[0m\u001b[0m\n\u001b[0m\u001b[0;32m    260\u001b[0m     \u001b[0mfile\u001b[0m\u001b[1;33m.\u001b[0m\u001b[0mflush\u001b[0m\u001b[1;33m(\u001b[0m\u001b[1;33m)\u001b[0m\u001b[1;33m\u001b[0m\u001b[0m\n\u001b[0;32m    261\u001b[0m \u001b[1;33m\u001b[0m\u001b[0m\n",
      "\u001b[1;31mUnsupportedOperation\u001b[0m: not writable"
     ]
    }
   ],
   "source": [
    "# 1. import Flask\n",
    "from flask import Flask\n",
    "\n",
    "# 2. Create an app, being sure to pass __name__\n",
    "app = Flask(__name__)\n",
    "\n",
    "# 3. Define what to do when a user hits the index route\n",
    "@app.route(\"/\")\n",
    "def home():\n",
    "    print(\"Server received request for 'Home' page...\")\n",
    "    return \"Welcome to my 'Home' page!\"\n",
    "\n",
    "# 4. Define what to do when a user hits the /about route\n",
    "@app.route(\"/about\")\n",
    "def about():\n",
    "    print(\"Server received request for 'About' page...\")\n",
    "    return \"Welcome to my 'About' page!\"\n",
    "\n",
    "if __name__ == \"__main__\":\n",
    "  app.run(debug=True)"
   ]
  }
 ],
 "metadata": {
  "kernelspec": {
   "display_name": "Python 3",
   "language": "python",
   "name": "python3"
  },
  "language_info": {
   "codemirror_mode": {
    "name": "ipython",
    "version": 3
   },
   "file_extension": ".py",
   "mimetype": "text/x-python",
   "name": "python",
   "nbconvert_exporter": "python",
   "pygments_lexer": "ipython3",
   "version": "3.6.5"
  }
 },
 "nbformat": 4,
 "nbformat_minor": 2
}
