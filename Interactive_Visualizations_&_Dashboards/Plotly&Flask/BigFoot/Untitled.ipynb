{
 "cells": [
  {
   "cell_type": "code",
   "execution_count": 126,
   "metadata": {},
   "outputs": [],
   "source": [
    "from sqlalchemy import create_engine\n",
    "from sqlalchemy import Table, Column, Integer, String\n",
    "from flask import Flask\n",
    "from flask_sqlalchemy import SQLAlchemy\n",
    "from sqlalchemy.ext.declarative import declarative_base\n",
    "from sqlalchemy import func"
   ]
  },
  {
   "cell_type": "code",
   "execution_count": 128,
   "metadata": {},
   "outputs": [
    {
     "name": "stderr",
     "output_type": "stream",
     "text": [
      "C:\\Users\\kenco\\Anaconda3\\lib\\site-packages\\flask_sqlalchemy\\__init__.py:835: FSADeprecationWarning: SQLALCHEMY_TRACK_MODIFICATIONS adds significant overhead and will be disabled by default in the future.  Set it to True or False to suppress this warning.\n",
      "  'SQLALCHEMY_TRACK_MODIFICATIONS adds significant overhead and '\n"
     ]
    }
   ],
   "source": [
    "app = Flask(__name__)\n",
    "app.config['SQLALCHEMY_DATABASE_URI'] = 'sqlite:///db/bigfoot.sqlite'\n",
    "db = SQLAlchemy(app)\n",
    "\n",
    "class bigfoot(db.Model):\n",
    "    __tablename__ = 'bigfoot'\n",
    "    \n",
    "    id = db.Column(db.Integer, primary_key = True)\n",
    "    number = db.Column(db.Integer)\n",
    "    title = db.Column(db.String)\n",
    "    classification = db.Column(db.String)\n",
    "    timestamp = db.Column(db.String)\n",
    "    latitude = db.Column(db.Float)\n",
    "    longitude = db.Column(db.Float)\n",
    "    \n",
    "    def __repr__(self):\n",
    "        return '<BigFoot %r>' % (self.name)\n",
    "    \n",
    "@app.before_first_request\n",
    "def setup():\n",
    "    db.drop_all()\n",
    "    db.create_all()"
   ]
  },
  {
   "cell_type": "code",
   "execution_count": 133,
   "metadata": {},
   "outputs": [],
   "source": [
    "from datetime import datetime\n",
    "import timestring\n",
    "sel = [func.strftime('%Y',bigfoot.timestamp),func.count(bigfoot.id)]\n",
    "results = db.session.query(*sel).group_by(func.strftime('%Y',bigfoot.timestamp)).all()\n"
   ]
  },
  {
   "cell_type": "code",
   "execution_count": 137,
   "metadata": {},
   "outputs": [],
   "source": [
    "results = pd.DataFrame(results,columns=['Year','Count'])\n"
   ]
  },
  {
   "cell_type": "code",
   "execution_count": null,
   "metadata": {},
   "outputs": [],
   "source": []
  },
  {
   "cell_type": "code",
   "execution_count": null,
   "metadata": {},
   "outputs": [],
   "source": []
  },
  {
   "cell_type": "code",
   "execution_count": null,
   "metadata": {},
   "outputs": [],
   "source": []
  }
 ],
 "metadata": {
  "kernelspec": {
   "display_name": "Python 3",
   "language": "python",
   "name": "python3"
  },
  "language_info": {
   "codemirror_mode": {
    "name": "ipython",
    "version": 3
   },
   "file_extension": ".py",
   "mimetype": "text/x-python",
   "name": "python",
   "nbconvert_exporter": "python",
   "pygments_lexer": "ipython3",
   "version": "3.6.5"
  }
 },
 "nbformat": 4,
 "nbformat_minor": 2
}
